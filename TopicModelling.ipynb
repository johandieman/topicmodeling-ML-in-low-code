{
 "cells": [
  {
   "cell_type": "code",
   "execution_count": 10,
   "metadata": {},
   "outputs": [],
   "source": [
    "#Common Variables\n",
    "PROCESSEDBODY = \"output/processed_body.csv\"\n",
    "PROCESSEDOUTPUT = \"output/processed_final.csv\""
   ]
  },
  {
   "cell_type": "code",
   "execution_count": 2,
   "metadata": {},
   "outputs": [
    {
     "name": "stderr",
     "output_type": "stream",
     "text": [
      "C:\\Users\\user\\anaconda3\\lib\\site-packages\\sklearn\\decomposition\\_lda.py:29: DeprecationWarning: `np.float` is a deprecated alias for the builtin `float`. To silence this warning, use `float` by itself. Doing this will not modify any behavior and is safe. If you specifically wanted the numpy scalar type, use `np.float64` here.\n",
      "Deprecated in NumPy 1.20; for more details and guidance: https://numpy.org/devdocs/release/1.20.0-notes.html#deprecations\n",
      "  EPS = np.finfo(np.float).eps\n"
     ]
    }
   ],
   "source": [
    "import os\n",
    "import string\n",
    "import pandas as pd\n",
    "import numpy as np\n",
    "import gensim\n",
    "import unicodedata\n",
    "from gensim import corpora\n",
    "import nltk\n",
    "from nltk.corpus import stopwords\n",
    "from nltk.tokenize import sent_tokenize, word_tokenize\n",
    "from nltk.stem import WordNetLemmatizer\n",
    "from nltk.stem.porter import PorterStemmer\n",
    "from gensim.models import CoherenceModel, LdaModel\n",
    "import pyLDAvis.gensim_models as gensimvis\n",
    "import pyLDAvis\n",
    "\n",
    "import json\n",
    "import re\n",
    "import html\n",
    "import warnings\n",
    "import pickle\n",
    "from tqdm import tqdm\n",
    "import matplotlib.pyplot as plt\n",
    "warnings.filterwarnings('ignore')"
   ]
  },
  {
   "cell_type": "code",
   "execution_count": 13,
   "metadata": {},
   "outputs": [
    {
     "name": "stderr",
     "output_type": "stream",
     "text": [
      "[nltk_data] Downloading package stopwords to\n",
      "[nltk_data]     C:\\Users\\user\\AppData\\Roaming\\nltk_data...\n",
      "[nltk_data]   Unzipping corpora\\stopwords.zip.\n"
     ]
    },
    {
     "data": {
      "text/plain": [
       "True"
      ]
     },
     "execution_count": 13,
     "metadata": {},
     "output_type": "execute_result"
    }
   ],
   "source": [
    "# nltk.download('stopwords')\n",
    "# nltk.download('wordnet')"
   ]
  },
  {
   "cell_type": "code",
   "execution_count": 3,
   "metadata": {},
   "outputs": [],
   "source": [
    "stemmer = PorterStemmer()\n",
    "pyLDAvis.enable_notebook() \n",
    "current_dir = os.getcwd()\n",
    "coherence_scores = []"
   ]
  },
  {
   "cell_type": "code",
   "execution_count": 4,
   "metadata": {},
   "outputs": [],
   "source": [
    "stop_words_set = set()\n",
    "stop_words = set(stopwords.words('english'))\n",
    "for word in stop_words:\n",
    "    if('\\'' in word):\n",
    "        stop_words_set.add(word.strip().replace('\\'', ''))\n",
    "    stop_words_set.add(word)"
   ]
  },
  {
   "cell_type": "code",
   "execution_count": 5,
   "metadata": {},
   "outputs": [],
   "source": [
    "def preprocess_text(text):\n",
    "    # remove non ascii\n",
    "    text = unicodedata.normalize('NFKD', text).encode(\n",
    "        'ascii', 'ignore').decode('utf-8', 'ignore')\n",
    "    text = text.lower()\n",
    "    # unescaping\n",
    "    text = html.unescape(text)\n",
    "    text = re.sub(r'<code>(.|\\n)*?</code>','', text) # removing <code>...</code>\n",
    "    text = re.sub(r'<a.*?</a>', '', text)  # removing whole anchor tags\n",
    "    text = re.sub(r'(<.*?>)', '', text)  # removing html markup\n",
    "    text = re.sub(r'[^\\w\\s]', '', text)  # removing punctuation\n",
    "    text = re.sub(r'[\\d]', '', text)  # removing digits\n",
    "    # remove stopwords\n",
    "    tokenized = []\n",
    "    for word in text.split():\n",
    "        if word in stop_words_set:\n",
    "            continue\n",
    "        tokenized.append(word)\n",
    "        \n",
    "    for i in range(len(tokenized)):\n",
    "        word = tokenized[i]\n",
    "        word = WordNetLemmatizer().lemmatize(word, pos='v')\n",
    "        tokenized[i] = stemmer.stem(word)\n",
    "    return tokenized"
   ]
  },
  {
   "cell_type": "code",
   "execution_count": 6,
   "metadata": {},
   "outputs": [
    {
     "data": {
      "text/html": [
       "<div>\n",
       "<style scoped>\n",
       "    .dataframe tbody tr th:only-of-type {\n",
       "        vertical-align: middle;\n",
       "    }\n",
       "\n",
       "    .dataframe tbody tr th {\n",
       "        vertical-align: top;\n",
       "    }\n",
       "\n",
       "    .dataframe thead th {\n",
       "        text-align: right;\n",
       "    }\n",
       "</style>\n",
       "<table border=\"1\" class=\"dataframe\">\n",
       "  <thead>\n",
       "    <tr style=\"text-align: right;\">\n",
       "      <th></th>\n",
       "      <th>id</th>\n",
       "      <th>qa</th>\n",
       "      <th>raw</th>\n",
       "      <th>preprocessed</th>\n",
       "    </tr>\n",
       "  </thead>\n",
       "  <tbody>\n",
       "    <tr>\n",
       "      <th>0</th>\n",
       "      <td>2056</td>\n",
       "      <td>q</td>\n",
       "      <td>What are MVP and MVC and what is the differenc...</td>\n",
       "      <td>[mvp, mvc, differ, look, beyond, dragdrop, con...</td>\n",
       "    </tr>\n",
       "    <tr>\n",
       "      <th>1</th>\n",
       "      <td>2222</td>\n",
       "      <td>q</td>\n",
       "      <td>How can I unit test Flex applications from wit...</td>\n",
       "      <td>[unit, test, flex, applic, within, ide, build,...</td>\n",
       "    </tr>\n",
       "    <tr>\n",
       "      <th>2</th>\n",
       "      <td>2933</td>\n",
       "      <td>q</td>\n",
       "      <td>Create a directly-executable cross-platform GU...</td>\n",
       "      <td>[creat, directlyexecut, crossplatform, gui, ap...</td>\n",
       "    </tr>\n",
       "    <tr>\n",
       "      <th>3</th>\n",
       "      <td>3362</td>\n",
       "      <td>q</td>\n",
       "      <td>Capturing TAB key in text box &lt;p&gt;I would like ...</td>\n",
       "      <td>[captur, tab, key, text, box, would, like, abl...</td>\n",
       "    </tr>\n",
       "    <tr>\n",
       "      <th>4</th>\n",
       "      <td>3607</td>\n",
       "      <td>q</td>\n",
       "      <td>Integrating Fogbugz with TortoiseSVN with no U...</td>\n",
       "      <td>[integr, fogbugz, tortoisesvn, urlsubvers, bac...</td>\n",
       "    </tr>\n",
       "  </tbody>\n",
       "</table>\n",
       "</div>"
      ],
      "text/plain": [
       "     id qa                                                raw  \\\n",
       "0  2056  q  What are MVP and MVC and what is the differenc...   \n",
       "1  2222  q  How can I unit test Flex applications from wit...   \n",
       "2  2933  q  Create a directly-executable cross-platform GU...   \n",
       "3  3362  q  Capturing TAB key in text box <p>I would like ...   \n",
       "4  3607  q  Integrating Fogbugz with TortoiseSVN with no U...   \n",
       "\n",
       "                                        preprocessed  \n",
       "0  [mvp, mvc, differ, look, beyond, dragdrop, con...  \n",
       "1  [unit, test, flex, applic, within, ide, build,...  \n",
       "2  [creat, directlyexecut, crossplatform, gui, ap...  \n",
       "3  [captur, tab, key, text, box, would, like, abl...  \n",
       "4  [integr, fogbugz, tortoisesvn, urlsubvers, bac...  "
      ]
     },
     "execution_count": 6,
     "metadata": {},
     "output_type": "execute_result"
    }
   ],
   "source": [
    "df=pd.read_csv(PROCESSEDBODY)\n",
    "df['preprocessed'] = \"\"\n",
    "for i in range(len(df)):\n",
    "    df['preprocessed'].iloc[i] = preprocess_text(df.raw.iloc[i])\n",
    "df.to_csv(PROCESSEDOUTPUT)\n",
    "df.head()"
   ]
  },
  {
   "cell_type": "code",
   "execution_count": 7,
   "metadata": {},
   "outputs": [],
   "source": [
    "def create_dir(parent_dir, dir_name):\n",
    "    temp = os.path.join(parent_dir,dir_name)\n",
    "    try:  \n",
    "        os.mkdir(temp)  \n",
    "    except OSError as error:  \n",
    "        \n",
    "        pass\n",
    "    return temp"
   ]
  },
  {
   "cell_type": "code",
   "execution_count": 8,
   "metadata": {},
   "outputs": [
    {
     "name": "stderr",
     "output_type": "stream",
     "text": [
      "100%|██████████████████████████████████████████████████████████████████████████████████| 28/28 [11:14<00:00, 24.09s/it]\n"
     ]
    },
    {
     "data": {
      "image/png": "[encoded data removed]",
      "text/plain": [
       "<Figure size 432x288 with 1 Axes>"
      ]
     },
     "metadata": {
      "needs_background": "light"
     },
     "output_type": "display_data"
    }
   ],
   "source": [
    "# finding out optimum topic number\n",
    "data = df['preprocessed']\n",
    "dictionary = gensim.corpora.Dictionary(data)\n",
    "corpus = [dictionary.doc2bow(doc) for doc in data]\n",
    "coherence_scores = []\n",
    "for num_topics in tqdm(range(1,29)):\n",
    "    lda = LdaModel(corpus=corpus, num_topics=num_topics,id2word=dictionary, alpha=50/num_topics)\n",
    "    coherenceModel = CoherenceModel(model=lda, texts=data, dictionary=dictionary, coherence='c_v')\n",
    "    score = coherenceModel.get_coherence()\n",
    "    coherence_scores.append([num_topics,score])\n",
    "# save scores as csv\n",
    "ch_df = pd.DataFrame(coherence_scores,columns=['Num Topic','Score'])\n",
    "ch_df.to_csv('output/Coherence_Scores.csv')\n",
    "# plot\n",
    "plt.xlabel('Number of Topics') \n",
    "plt.ylabel('Coherence Score') \n",
    "x = []\n",
    "y = []\n",
    "for score in coherence_scores:\n",
    "    x.append(score[0])\n",
    "    y.append(score[1])\n",
    "plt.plot(x,y,c='r')\n",
    "plt.gca().set_aspect('auto')\n",
    "plt.grid()\n",
    "plt.savefig('output/scores.png', dpi=500)\n",
    "plt.show()"
   ]
  },
  {
   "cell_type": "code",
   "execution_count": 11,
   "metadata": {},
   "outputs": [],
   "source": [
    "res_dir = create_dir(current_dir, 'Topic Modeling Results')\n",
    "data = df['preprocessed']\n",
    "dictionary = gensim.corpora.Dictionary(data)\n",
    "corpus = [dictionary.doc2bow(doc) for doc in data]\n",
    "\n",
    "# create folder for topic number\n",
    "NUM_TOPIS = [4,9,14,18,20,22,25,27,28]\n",
    "for num_topics in NUM_TOPIS:\n",
    "    topic_dir = create_dir(res_dir, f'{num_topics} Topics')\n",
    "    if os.path.isfile(os.path.join(topic_dir, 'lda.pkl')):\n",
    "        lda = pickle.load(open(os.path.join(topic_dir, 'lda.pkl'), \"rb\"))\n",
    "    else:\n",
    "        lda = LdaModel(corpus=corpus, num_topics=num_topics, id2word=dictionary, alpha=50/num_topics)\n",
    "        # save the model as pickle\n",
    "        pickle.dump(lda, open(os.path.join(topic_dir, 'lda.pkl'), \"wb\"))\n",
    "        \n",
    "    topics = [[(word, word_prob) for word, word_prob in lda.show_topic(\n",
    "        n, topn=30)] for n in range(lda.num_topics)]\n",
    "    # term-topic matrix\n",
    "    topics_df = pd.DataFrame([[f'{word} {round(word_prob,4)}' for word, word_prob in topic] \n",
    "                              for topic in topics], columns=[\n",
    "        f'Term {i}' for i in range(1, 31)], index=[f'Topic {n}' for n in range(lda.num_topics)]).T\n",
    "    \n",
    "    topics_df.to_csv(os.path.join(topic_dir, 'term x topic.csv'))\n",
    "    # topic words\n",
    "    topic_words_dir = create_dir(topic_dir, 'TopicWords')\n",
    "    for n in range(num_topics):\n",
    "        topic_words_df = pd.DataFrame(\n",
    "            [[word_prob, word]for word, word_prob in topics[n]], columns=['Prob', 'Word'])\n",
    "        \n",
    "        topic_words_df.to_csv(os.path.join(topic_words_dir, f'{n}.csv'))\n",
    "        \n",
    "    # post to dominant topic\n",
    "    corpus_topic_df = pd.DataFrame()\n",
    "\n",
    "    corpus_topic_df['qa'] = df.qa\n",
    "    \n",
    "    topic_model_results = lda[corpus]\n",
    "    corpus_topics = [sorted(doc, key=lambda x: -x[1])[0]\n",
    "                    for doc in topic_model_results]\n",
    "    \n",
    "    corpus_topic_df['Dominant Topic'] = [item[0] for item in corpus_topics]\n",
    "    corpus_topic_df['Correlation'] = [item[1] for item in corpus_topics]\n",
    "    \n",
    "    corpus_topic_df.to_csv(os.path.join(topic_dir, 'postToTopic.csv'))\n",
    "    topic_to_post_dir = create_dir(topic_dir, 'TopicToPost')\n",
    "    \n",
    "    for i in range(num_topics):\n",
    "        temp = create_dir(topic_to_post_dir, str(i))\n",
    "        temp_q_df = corpus_topic_df.loc[corpus_topic_df['Dominant Topic'] == i]\n",
    "        temp_q_df = temp_q_df.loc[temp_q_df['qa'] == 'q']\n",
    "        temp_a_df = corpus_topic_df.loc[corpus_topic_df['Dominant Topic'] == i]\n",
    "        temp_a_df = temp_a_df.loc[temp_a_df['qa'] == 'a']\n",
    "        temp_q_df.drop(columns=['Dominant Topic','qa']).to_csv(\n",
    "            os.path.join(temp, 'Questions.csv'), index=False)\n",
    "        temp_q_df.drop(columns=['Dominant Topic','qa']).to_excel(\n",
    "            os.path.join(temp, 'Questions.xlsx'), index=False)\n",
    "        temp_a_df.drop(columns=['Dominant Topic','qa']).to_csv(\n",
    "            os.path.join(temp, 'Answers.csv'), index=False)\n",
    "        temp_a_df.drop(columns=['Dominant Topic','qa']).to_excel(\n",
    "            os.path.join(temp, 'Answers.xlsx'), index=False)\n",
    "        \n",
    "    # post count under any topic\n",
    "    topic_post_cnt_df = corpus_topic_df.groupby('Dominant Topic').agg(\n",
    "        Document_Count=('Dominant Topic', np.size),\n",
    "        Percentage=('Dominant Topic', np.size)).reset_index()\n",
    "    \n",
    "    topic_post_cnt_df['Percentage'] = topic_post_cnt_df['Percentage'].apply(\n",
    "        lambda x: round((x*100) / len(corpus), 2))\n",
    "    \n",
    "    topic_post_cnt_df.to_csv(os.path.join(topic_dir, 'postPerTopic.csv'))\n",
    "    \n",
    "    # pyLDAvis\n",
    "    vis = pyLDAvis.gensim_models.prepare(lda, corpus, dictionary)\n",
    "    \n",
    "    pyLDAvis.save_html(vis, os.path.join(topic_dir, f'pyLDAvis.html'))"
   ]
  }
 ],
 "metadata": {
  "kernelspec": {
   "display_name": "Python 3",
   "language": "python",
   "name": "python3"
  },
  "language_info": {
   "codemirror_mode": {
    "name": "ipython",
    "version": 3
   },
   "file_extension": ".py",
   "mimetype": "text/x-python",
   "name": "python",
   "nbconvert_exporter": "python",
   "pygments_lexer": "ipython3",
   "version": "3.7.6"
  }
 },
 "nbformat": 4,
 "nbformat_minor": 4
}
