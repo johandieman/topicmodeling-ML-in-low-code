{
 "cells": [
  {
   "cell_type": "code",
   "execution_count": 1,
   "metadata": {},
   "outputs": [],
   "source": [
    "import xml.etree.ElementTree as ET\n",
    "import csv\n",
    "import pandas as pd\n",
    "import traceback\n",
    "import sys\n",
    "import numpy as np\n"
   ]
  },
  {
   "cell_type": "code",
   "execution_count": 2,
   "metadata": {},
   "outputs": [],
   "source": [
    "#common variables\n",
    "CUTTOFF=100000000\n",
    "LOGAMOUNT=1000000\n",
    "\n",
    "OUTPUT1=\"output/output_1.csv\"\n",
    "OUTPUT2=\"output/output_2.csv\"\n",
    "OUTPUT3=\"output/output_3.csv\"\n",
    "OUTPUT4=\"output/output_4.csv\"\n",
    "PROCESSEDFINAL=\"output/processed_body.csv\"\n",
    "EXISTING_TAGS=\"output/existing_tags.csv\"\n",
    "TAGSFILE = 'datadumps/Tags.xml'\n",
    "POSTSFILE = 'datadumps/Posts.xml'"
   ]
  },
  {
   "cell_type": "code",
   "execution_count": 13,
   "metadata": {},
   "outputs": [],
   "source": [
    "tags_context = ET.iterparse(TAGSFILE, events=(\"start\", \"end\"),\n",
    "                       parser=ET.XMLParser(encoding='utf-8'))"
   ]
  },
  {
   "cell_type": "code",
   "execution_count": 14,
   "metadata": {
    "scrolled": true
   },
   "outputs": [
    {
     "name": "stdout",
     "output_type": "stream",
     "text": [
      "{'Id': '1', 'TagName': '.net', 'Count': '310793', 'ExcerptPostId': '3624959', 'WikiPostId': '3607476'}\n",
      "\n",
      "\n",
      "{'Id': '2', 'TagName': 'html', 'Count': '1088688', 'ExcerptPostId': '3673183', 'WikiPostId': '3673182'}\n",
      "\n",
      "\n"
     ]
    }
   ],
   "source": [
    "# lets look at the tags\n",
    "_, root = next(tags_context)\n",
    "for index, item in enumerate(tags_context):\n",
    "    event, elem = item\n",
    "    if event == \"end\" and elem.tag == \"row\":\n",
    "        print(elem.attrib)\n",
    "        print('\\n')\n",
    "        \n",
    "        if index >1 and index!= 0:\n",
    "            break\n",
    "    \n",
    "    "
   ]
  },
  {
   "cell_type": "code",
   "execution_count": 15,
   "metadata": {},
   "outputs": [],
   "source": [
    "with open(EXISTING_TAGS, 'w', newline='', encoding='utf-8') as csvfile:\n",
    "    csvwriter = csv.writer(csvfile)\n",
    "    csvwriter.writerow(['TAG'])\n",
    "    _, root = next(tags_context)\n",
    "    for index, item in enumerate(tags_context):\n",
    "        event, elem = item\n",
    "        if event == \"end\" and elem.tag == \"row\":\n",
    "            tag = elem.attrib.get('TagName', 'None')\n",
    "            csvwriter.writerow([tag])"
   ]
  },
  {
   "cell_type": "code",
   "execution_count": 16,
   "metadata": {},
   "outputs": [
    {
     "data": {
      "text/plain": "                    TAG\n16566                .a\n15157              .app\n16357         .aspxauth\n11751     .bash-profile\n15329       .class-file\n...                 ...\n36586              zynq\n55385  zynq-ultrascale+\n29917            zypper\n352                 NaN\n4258                NaN\n\n[61666 rows x 1 columns]",
      "text/html": "<div>\n<style scoped>\n    .dataframe tbody tr th:only-of-type {\n        vertical-align: middle;\n    }\n\n    .dataframe tbody tr th {\n        vertical-align: top;\n    }\n\n    .dataframe thead th {\n        text-align: right;\n    }\n</style>\n<table border=\"1\" class=\"dataframe\">\n  <thead>\n    <tr style=\"text-align: right;\">\n      <th></th>\n      <th>TAG</th>\n    </tr>\n  </thead>\n  <tbody>\n    <tr>\n      <th>16566</th>\n      <td>.a</td>\n    </tr>\n    <tr>\n      <th>15157</th>\n      <td>.app</td>\n    </tr>\n    <tr>\n      <th>16357</th>\n      <td>.aspxauth</td>\n    </tr>\n    <tr>\n      <th>11751</th>\n      <td>.bash-profile</td>\n    </tr>\n    <tr>\n      <th>15329</th>\n      <td>.class-file</td>\n    </tr>\n    <tr>\n      <th>...</th>\n      <td>...</td>\n    </tr>\n    <tr>\n      <th>36586</th>\n      <td>zynq</td>\n    </tr>\n    <tr>\n      <th>55385</th>\n      <td>zynq-ultrascale+</td>\n    </tr>\n    <tr>\n      <th>29917</th>\n      <td>zypper</td>\n    </tr>\n    <tr>\n      <th>352</th>\n      <td>NaN</td>\n    </tr>\n    <tr>\n      <th>4258</th>\n      <td>NaN</td>\n    </tr>\n  </tbody>\n</table>\n<p>61666 rows × 1 columns</p>\n</div>"
     },
     "execution_count": 16,
     "metadata": {},
     "output_type": "execute_result"
    }
   ],
   "source": [
    "search_for_tags_df =pd.read_csv(EXISTING_TAGS)\n",
    "search_for_tags_df = search_for_tags_df.sort_values('TAG')\n",
    "search_for_tags_df"
   ]
  },
  {
   "cell_type": "code",
   "execution_count": 17,
   "metadata": {},
   "outputs": [],
   "source": [
    "context = ET.iterparse(POSTSFILE, events=(\"start\", \"end\"),\n",
    "                       parser=ET.XMLParser(encoding='utf-8'))"
   ]
  },
  {
   "cell_type": "code",
   "execution_count": 18,
   "metadata": {
    "scrolled": true
   },
   "outputs": [
    {
     "name": "stdout",
     "output_type": "stream",
     "text": [
      "{'Id': '4', 'PostTypeId': '1', 'AcceptedAnswerId': '7', 'CreationDate': '2008-07-31T21:42:52.667', 'Score': '735', 'ViewCount': '59537', 'Body': '<p>I want to use a <code>Track-Bar</code> to change a <code>Form</code>\\'s opacity.</p>\\n<p>This is my code:</p>\\n<pre class=\"lang-cs prettyprint-override\"><code>decimal trans = trackBar1.Value / 5000;\\nthis.Opacity = trans;\\n</code></pre>\\n<p>When I build the application, it gives the following error:</p>\\n<blockquote>\\n<pre class=\"lang-none prettyprint-override\"><code>Cannot implicitly convert type decimal to double\\n</code></pre>\\n</blockquote>\\n<p>I have tried using <code>trans</code> and <code>double</code>, but then the <code>Control</code> doesn\\'t work. This code worked fine in a past VB.NET project.</p>\\n', 'OwnerUserId': '8', 'LastEditorUserId': '3072350', 'LastEditorDisplayName': 'Rich B', 'LastEditDate': '2021-02-26T03:31:15.027', 'LastActivityDate': '2021-02-26T03:31:15.027', 'Title': 'How to convert a Decimal to a Double in C#?', 'Tags': '<c#><floating-point><type-conversion><double><decimal>', 'AnswerCount': '14', 'CommentCount': '5', 'FavoriteCount': '57', 'CommunityOwnedDate': '2012-10-31T16:42:47.213', 'ContentLicense': 'CC BY-SA 4.0'}\n",
      "\n",
      "\n",
      "tags =  ['c#', 'floating-point', 'type-conversion', 'double', 'decimal']\n",
      "\n",
      "\n"
     ]
    }
   ],
   "source": [
    "# lets look at the data\n",
    "_, root = next(context)\n",
    "for index, item in enumerate(context):\n",
    "    event, elem = item\n",
    "    if event == \"end\" and elem.tag == \"row\":\n",
    "        print(elem.attrib)\n",
    "        print('\\n')\n",
    "        tags = elem.attrib.get('Tags', 'None')\n",
    "        #remove all '<', '>'\n",
    "        reworked_tags = tags[1:len(tags)-1].split('><')\n",
    "        print('tags = ', reworked_tags)\n",
    "        print('\\n')\n",
    "        \n",
    "    if index >1 and index!= 0:\n",
    "        break\n",
    "    \n",
    "    \n"
   ]
  },
  {
   "cell_type": "code",
   "execution_count": 19,
   "metadata": {},
   "outputs": [],
   "source": [
    "def simpleTagCheck(arr):\n",
    "    return 'is valid' if len(arr) != len(search_for_tags_df.loc[search_for_tags_df['TAG'].\n",
    "                                                  isin(arr)]) else 'not valid'\n",
    "\n",
    "\n"
   ]
  },
  {
   "cell_type": "code",
   "execution_count": 10,
   "metadata": {
    "scrolled": true
   },
   "outputs": [
    {
     "data": {
      "text/plain": "Empty DataFrame\nColumns: [TAG]\nIndex: []",
      "text/html": "<div>\n<style scoped>\n    .dataframe tbody tr th:only-of-type {\n        vertical-align: middle;\n    }\n\n    .dataframe tbody tr th {\n        vertical-align: top;\n    }\n\n    .dataframe thead th {\n        text-align: right;\n    }\n</style>\n<table border=\"1\" class=\"dataframe\">\n  <thead>\n    <tr style=\"text-align: right;\">\n      <th></th>\n      <th>TAG</th>\n    </tr>\n  </thead>\n  <tbody>\n  </tbody>\n</table>\n</div>"
     },
     "execution_count": 10,
     "metadata": {},
     "output_type": "execute_result"
    }
   ],
   "source": [
    "search_for_tags_df.loc[search_for_tags_df['TAG'] == 'low-']"
   ]
  },
  {
   "cell_type": "code",
   "execution_count": 3,
   "metadata": {},
   "outputs": [],
   "source": [
    "#platforms\n",
    "TAGS = ['google-app-maker', 'appian', 'outsystems', 'zoho', 'mendix', \n",
    "        'powerapps', 'quickbase', 'vinyl', 'salesforce-lightning', 'github-copilot','Knack','Airtable']\n",
    "\n",
    "#machine learning\n",
    "TAGS += ['machine-learning','classification','nlp','anomaly-detection','machine-translation','']\n",
    "\n",
    "#low-code\n",
    "TAGS += ['editor','wysiwyg','automation', 'ui-automation','']\n",
    "\n",
    "\n",
    "\n",
    "\n",
    "COLS = [\"Id\", \"PostTypeId\", \"AcceptedAnswerId\", \"ParentId\", \"CreationDate\",\n",
    "        \"DeletionDate\", \"Score\", \"ViewCount\", \"Body\", \"LastEditDate\", \"LastActivityDate\",\n",
    "        \"Title\", \"Tags\", \"AnswerCount\", \"CommentCount\", \"FavoriteCount\", \"ClosedDate\",\n",
    "        \"CommunityOwnedDate\", \"ContentLicense\"]"
   ]
  },
  {
   "cell_type": "code",
   "execution_count": 21,
   "metadata": {},
   "outputs": [
    {
     "data": {
      "text/plain": "'is valid'"
     },
     "execution_count": 21,
     "metadata": {},
     "output_type": "execute_result"
    }
   ],
   "source": [
    "simpleTagCheck(TAGS)"
   ]
  },
  {
   "cell_type": "code",
   "execution_count": 22,
   "metadata": {},
   "outputs": [
    {
     "name": "stdout",
     "output_type": "stream",
     "text": [
      "Start Extraction\n",
      "prossesed 1000000 total_posts_gahtered 587\n",
      "prossesed 2000000 total_posts_gahtered 1094\n",
      "prossesed 3000000 total_posts_gahtered 1569\n",
      "prossesed 4000000 total_posts_gahtered 2042\n",
      "prossesed 5000000 total_posts_gahtered 2530\n",
      "prossesed 6000000 total_posts_gahtered 2949\n",
      "prossesed 7000000 total_posts_gahtered 3397\n",
      "prossesed 8000000 total_posts_gahtered 3840\n",
      "prossesed 9000000 total_posts_gahtered 4311\n",
      "prossesed 10000000 total_posts_gahtered 4736\n",
      "prossesed 11000000 total_posts_gahtered 5140\n",
      "prossesed 12000000 total_posts_gahtered 5522\n",
      "prossesed 13000000 total_posts_gahtered 5988\n",
      "prossesed 14000000 total_posts_gahtered 6433\n",
      "prossesed 15000000 total_posts_gahtered 6895\n",
      "prossesed 16000000 total_posts_gahtered 7341\n",
      "prossesed 17000000 total_posts_gahtered 7804\n",
      "prossesed 18000000 total_posts_gahtered 8309\n",
      "prossesed 19000000 total_posts_gahtered 8786\n",
      "prossesed 20000000 total_posts_gahtered 9285\n",
      "prossesed 21000000 total_posts_gahtered 9764\n",
      "prossesed 22000000 total_posts_gahtered 10224\n",
      "prossesed 23000000 total_posts_gahtered 10673\n",
      "prossesed 24000000 total_posts_gahtered 11138\n",
      "prossesed 25000000 total_posts_gahtered 11546\n",
      "prossesed 26000000 total_posts_gahtered 12060\n",
      "prossesed 27000000 total_posts_gahtered 12528\n",
      "prossesed 28000000 total_posts_gahtered 12989\n",
      "prossesed 29000000 total_posts_gahtered 13491\n",
      "prossesed 30000000 total_posts_gahtered 13943\n",
      "prossesed 31000000 total_posts_gahtered 14427\n",
      "prossesed 32000000 total_posts_gahtered 14849\n",
      "prossesed 33000000 total_posts_gahtered 15340\n",
      "prossesed 34000000 total_posts_gahtered 15862\n",
      "prossesed 35000000 total_posts_gahtered 16336\n",
      "prossesed 36000000 total_posts_gahtered 16812\n",
      "prossesed 37000000 total_posts_gahtered 17296\n",
      "prossesed 38000000 total_posts_gahtered 17860\n",
      "prossesed 39000000 total_posts_gahtered 18386\n",
      "prossesed 40000000 total_posts_gahtered 18919\n",
      "prossesed 41000000 total_posts_gahtered 19443\n",
      "prossesed 42000000 total_posts_gahtered 19962\n",
      "prossesed 43000000 total_posts_gahtered 20508\n",
      "prossesed 44000000 total_posts_gahtered 21057\n",
      "prossesed 45000000 total_posts_gahtered 21636\n",
      "prossesed 46000000 total_posts_gahtered 22238\n",
      "prossesed 47000000 total_posts_gahtered 22839\n",
      "prossesed 48000000 total_posts_gahtered 23537\n",
      "prossesed 49000000 total_posts_gahtered 24186\n",
      "prossesed 50000000 total_posts_gahtered 24827\n",
      "prossesed 51000000 total_posts_gahtered 25474\n",
      "prossesed 52000000 total_posts_gahtered 26166\n",
      "prossesed 53000000 total_posts_gahtered 26854\n",
      "prossesed 54000000 total_posts_gahtered 27524\n",
      "prossesed 55000000 total_posts_gahtered 28265\n",
      "prossesed 56000000 total_posts_gahtered 29067\n",
      "prossesed 57000000 total_posts_gahtered 29879\n",
      "prossesed 58000000 total_posts_gahtered 30691\n",
      "prossesed 59000000 total_posts_gahtered 31554\n",
      "prossesed 60000000 total_posts_gahtered 32505\n",
      "prossesed 61000000 total_posts_gahtered 33402\n",
      "prossesed 62000000 total_posts_gahtered 34320\n",
      "prossesed 63000000 total_posts_gahtered 35191\n",
      "prossesed 64000000 total_posts_gahtered 36073\n",
      "prossesed 65000000 total_posts_gahtered 37055\n",
      "prossesed 66000000 total_posts_gahtered 38105\n",
      "prossesed 67000000 total_posts_gahtered 39216\n",
      "prossesed 68000000 total_posts_gahtered 40327\n",
      "prossesed 69000000 total_posts_gahtered 41613\n",
      "prossesed 70000000 total_posts_gahtered 42773\n",
      "prossesed 71000000 total_posts_gahtered 44103\n",
      "prossesed 72000000 total_posts_gahtered 45586\n",
      "prossesed 73000000 total_posts_gahtered 46987\n",
      "prossesed 74000000 total_posts_gahtered 48287\n",
      "prossesed 75000000 total_posts_gahtered 49632\n",
      "prossesed 76000000 total_posts_gahtered 50920\n",
      "prossesed 77000000 total_posts_gahtered 52307\n",
      "prossesed 78000000 total_posts_gahtered 53858\n",
      "prossesed 79000000 total_posts_gahtered 55515\n",
      "prossesed 80000000 total_posts_gahtered 57094\n",
      "prossesed 81000000 total_posts_gahtered 58646\n",
      "prossesed 82000000 total_posts_gahtered 60263\n",
      "prossesed 83000000 total_posts_gahtered 61627\n",
      "prossesed 84000000 total_posts_gahtered 63062\n",
      "prossesed 85000000 total_posts_gahtered 64627\n",
      "prossesed 86000000 total_posts_gahtered 66041\n",
      "prossesed 87000000 total_posts_gahtered 67585\n",
      "prossesed 88000000 total_posts_gahtered 69129\n",
      "prossesed 89000000 total_posts_gahtered 70912\n",
      "prossesed 90000000 total_posts_gahtered 72597\n",
      "prossesed 91000000 total_posts_gahtered 74105\n",
      "prossesed 92000000 total_posts_gahtered 75750\n",
      "prossesed 93000000 total_posts_gahtered 77722\n",
      "prossesed 94000000 total_posts_gahtered 79734\n",
      "prossesed 95000000 total_posts_gahtered 81641\n",
      "prossesed 96000000 total_posts_gahtered 83581\n",
      "prossesed 97000000 total_posts_gahtered 85443\n",
      "prossesed 98000000 total_posts_gahtered 87409\n",
      "prossesed 99000000 total_posts_gahtered 89246\n",
      "prossesed 100000000 total_posts_gahtered 90855\n",
      "Extraction Over\n"
     ]
    }
   ],
   "source": [
    "# Extract data by tags\n",
    "print(\"Start Extraction\")\n",
    "postcount =0\n",
    "with open(OUTPUT1, 'w', newline='', encoding='utf-8') as csvfile:\n",
    "    csvwriter = csv.writer(csvfile)\n",
    "    csvwriter.writerow(COLS)\n",
    "    _, root = next(context)\n",
    "    for index, item in enumerate(context):\n",
    "        event, elem = item\n",
    "        # prevent duplicates\n",
    "        if event == \"end\" and elem.tag == \"row\":\n",
    "            tags = elem.attrib.get('Tags', 'None')\n",
    "            #remove all '<', '>'\n",
    "            reworked_tags = tags[1:len(tags)-1].split('><')\n",
    "            for tag in TAGS:\n",
    "                if tag in reworked_tags:\n",
    "                    postcount+=1\n",
    "                    data = []\n",
    "                    for col in COLS:\n",
    "                        data.append(elem.attrib.get(col, ''))\n",
    "                    csvwriter.writerow(data)\n",
    "                    continue\n",
    "            elem.clear()\n",
    "            root.clear()          \n",
    "        # log progress every 100000 \n",
    "        if index % LOGAMOUNT == 0 and index != 0:\n",
    "            print('prossesed', index, 'total_posts_gahtered', postcount)\n",
    "\n",
    "        if index > CUTTOFF:\n",
    "            break\n",
    "\n",
    "print(\"Extraction Over\")"
   ]
  },
  {
   "cell_type": "code",
   "execution_count": 1,
   "metadata": {},
   "outputs": [
    {
     "ename": "NameError",
     "evalue": "name 'TAGS' is not defined",
     "output_type": "error",
     "traceback": [
      "\u001B[1;31m---------------------------------------------------------------------------\u001B[0m",
      "\u001B[1;31mNameError\u001B[0m                                 Traceback (most recent call last)",
      "\u001B[1;32m<ipython-input-1-9058346eea69>\u001B[0m in \u001B[0;36m<module>\u001B[1;34m\u001B[0m\n\u001B[0;32m      1\u001B[0m \u001B[1;31m# clean data\u001B[0m\u001B[1;33m\u001B[0m\u001B[1;33m\u001B[0m\u001B[1;33m\u001B[0m\u001B[0m\n\u001B[1;32m----> 2\u001B[1;33m \u001B[0mcolsSet\u001B[0m \u001B[1;33m=\u001B[0m \u001B[0mset\u001B[0m\u001B[1;33m(\u001B[0m\u001B[0mTAGS\u001B[0m\u001B[1;33m)\u001B[0m\u001B[1;33m\u001B[0m\u001B[1;33m\u001B[0m\u001B[0m\n\u001B[0m\u001B[0;32m      3\u001B[0m \u001B[0mdf\u001B[0m \u001B[1;33m=\u001B[0m \u001B[0mpd\u001B[0m\u001B[1;33m.\u001B[0m\u001B[0mread_csv\u001B[0m\u001B[1;33m(\u001B[0m\u001B[0mOUTPUT1\u001B[0m\u001B[1;33m)\u001B[0m\u001B[1;33m\u001B[0m\u001B[1;33m\u001B[0m\u001B[0m\n\u001B[0;32m      4\u001B[0m \u001B[0mdf\u001B[0m\u001B[1;33m\u001B[0m\u001B[1;33m\u001B[0m\u001B[0m\n",
      "\u001B[1;31mNameError\u001B[0m: name 'TAGS' is not defined"
     ]
    }
   ],
   "source": [
    "# clean data\n",
    "colsSet = set(TAGS)\n",
    "df = pd.read_csv(OUTPUT1)\n",
    "df"
   ]
  },
  {
   "cell_type": "code",
   "execution_count": 24,
   "metadata": {},
   "outputs": [
    {
     "name": "stdout",
     "output_type": "stream",
     "text": [
      "REMOVE QUESTIONS WITH WRONG TAGS\n",
      "Before 90855\n",
      "After 90855\n"
     ]
    }
   ],
   "source": [
    "print('REMOVE QUESTIONS WITH WRONG TAGS')\n",
    "print('Before', len(df))\n",
    "indicesToRemove = []\n",
    "for i in range(len(df)):\n",
    "    tags = df.iloc[i]['Tags'][1:-1].replace('><', ' ').split()\n",
    "    f = True\n",
    "    for tag in tags:\n",
    "        if tag in colsSet:\n",
    "            f = False\n",
    "            break\n",
    "    if f:\n",
    "        indicesToRemove.append(i)\n",
    "df = df.drop(index=indicesToRemove)\n",
    "\n",
    "print('After', len(df))"
   ]
  },
  {
   "cell_type": "code",
   "execution_count": 25,
   "metadata": {},
   "outputs": [
    {
     "name": "stdout",
     "output_type": "stream",
     "text": [
      "\n",
      "REMOVING DUPLICATE SCORES\n",
      "Before 90855\n",
      "After 85552\n"
     ]
    }
   ],
   "source": [
    "print('\\nREMOVING DUPLICATE SCORES')\n",
    "print('Before', len(df))\n",
    "df.drop_duplicates('Id',inplace=True)\n",
    "print('After', len(df))\n",
    "\n"
   ]
  },
  {
   "cell_type": "code",
   "execution_count": 26,
   "metadata": {},
   "outputs": [
    {
     "name": "stdout",
     "output_type": "stream",
     "text": [
      "\n",
      "REMOVING QUESTIONS WITH NEGATIVE SCORES\n",
      "Before 85552\n",
      "After 79345\n"
     ]
    }
   ],
   "source": [
    "print('\\nREMOVING QUESTIONS WITH NEGATIVE SCORES')\n",
    "print('Before', len(df))\n",
    "df = df[df['Score'] >= 0]\n",
    "df.to_csv(OUTPUT2, index=False)\n",
    "print('After', len(df))"
   ]
  },
  {
   "cell_type": "code",
   "execution_count": 4,
   "metadata": {},
   "outputs": [
    {
     "name": "stderr",
     "output_type": "stream",
     "text": [
      "C:\\Users\\user\\anaconda3\\lib\\site-packages\\IPython\\core\\interactiveshell.py:3331: DtypeWarning: Columns (17) have mixed types.Specify dtype option on import or set low_memory=False.\n",
      "  exec(code_obj, self.user_global_ns, self.user_ns)\n"
     ]
    },
    {
     "data": {
      "text/plain": "             Id  PostTypeId  AcceptedAnswerId  ParentId  \\\n0          1496           1            1517.0       NaN   \n1          2898           1            2905.0       NaN   \n2         10475           1           10479.0       NaN   \n3         10564           1          773973.0       NaN   \n4         11462           1         4500707.0       NaN   \n...         ...         ...               ...       ...   \n79340  64002320           1               NaN       NaN   \n79341  64002582           1               NaN       NaN   \n79342  64002652           1               NaN       NaN   \n79343  64002720           1               NaN       NaN   \n79344  64003544           1               NaN       NaN   \n\n                  CreationDate  DeletionDate  Score  ViewCount  \\\n0      2008-08-04T18:51:38.543           NaN     34       9592   \n1      2008-08-05T21:42:37.763           NaN     51     129039   \n2      2008-08-13T23:29:38.707           NaN     26       7864   \n3      2008-08-14T01:43:04.270           NaN    595     353209   \n4      2008-08-14T18:30:01.160           NaN     21      19961   \n...                        ...           ...    ...        ...   \n79340  2020-09-22T02:38:02.267           NaN      0        534   \n79341  2020-09-22T03:14:50.670           NaN      0         79   \n79342  2020-09-22T03:24:00.103           NaN      0         83   \n79343  2020-09-22T03:32:51.170           NaN      0         51   \n79344  2020-09-22T05:26:26.570           NaN      1         32   \n\n                                                    Body  \\\n0      <p>For those of us that like to use the graphi...   \n1      <p>Let me preface this question by saying I us...   \n2      <p>Since the keyboard is <strong>the</strong> ...   \n3      <p>I'm trying out <strong>Git on Windows</stro...   \n4      <p>Ok, I've seen a few posts that <em>mention<...   \n...                                                  ...   \n79340  <p>Im working on a component where a table is ...   \n79341  <p>let us  say arr1 has size  10 and arr2 is s...   \n79342  <p>I want to display records from fieldset val...   \n79343  <p>Pretty straightforward... I'm running a Gri...   \n79344  <p>I deal with terms and acronyms, so I am equ...   \n\n                  LastEditDate         LastActivityDate  \\\n0      2019-07-24T14:44:27.110  2019-07-24T14:44:27.110   \n1      2012-07-28T00:24:43.417  2021-01-13T14:01:19.757   \n2      2008-09-11T02:13:53.970  2012-04-01T10:03:18.760   \n3      2016-12-24T17:26:04.737  2021-07-26T08:56:26.523   \n4      2014-12-09T14:01:56.880  2014-12-09T14:01:56.880   \n...                        ...                      ...   \n79340                      NaN  2020-09-22T02:38:02.267   \n79341                      NaN  2020-09-22T04:01:42.873   \n79342                      NaN  2020-09-22T03:24:00.103   \n79343  2020-09-23T10:19:12.950  2020-09-23T10:19:12.950   \n79344  2020-09-22T10:59:43.377  2020-09-22T10:59:43.377   \n\n                                                   Title  \\\n0      What are the preferred versions of Vim and Ema...   \n1                    Text Editor For Linux (Besides Vi)?   \n2                  Touch Typing Software recommendations   \n3      How can I set up an editor to work with Git on...   \n4                                       Sharepoint Wikis   \n...                                                  ...   \n79340  How do I add fieldinput values to an object in...   \n79341  Is there a way torch.mode can be applied multi...   \n79342  Display records in lightning:dataTable from fi...   \n79343  random forest with sub_balanced returns nan ev...   \n79344                Where do word vectors get computed?   \n\n                                                    Tags  AnswerCount  \\\n0                            <macos><vim><emacs><editor>           13   \n1                                        <linux><editor>           34   \n2                                 <editor><touch-typing>           14   \n3                         <windows><git><cygwin><editor>           35   \n4              <sharepoint><automation><sharepoint-wiki>           17   \n...                                                  ...          ...   \n79340  <datatables><attributes><salesforce-lightning>...            0   \n79341    <python><numpy><machine-learning><pytorch><knn>            1   \n79342      <datatable><salesforce><salesforce-lightning>            0   \n79343  <python><scikit-learn><classification><random-...            0   \n79344                                       <nlp><spacy>            0   \n\n       CommentCount  FavoriteCount               ClosedDate  \\\n0                 0            6.0  2012-08-03T16:38:59.173   \n1                 2           19.0  2014-05-28T07:41:58.517   \n2                 1           25.0  2012-03-01T06:12:03.993   \n3                 7          288.0                      NaN   \n4                 0            6.0                      NaN   \n...             ...            ...                      ...   \n79340             0            NaN                      NaN   \n79341             3            NaN                      NaN   \n79342             0            NaN                      NaN   \n79343             4            NaN                      NaN   \n79344             0            1.0                      NaN   \n\n            CommunityOwnedDate ContentLicense  \n0                          NaN   CC BY-SA 4.0  \n1      2009-05-03T11:37:34.303   CC BY-SA 2.5  \n2                          NaN   CC BY-SA 2.5  \n3                          NaN   CC BY-SA 2.5  \n4                          NaN   CC BY-SA 3.0  \n...                        ...            ...  \n79340                      NaN   CC BY-SA 4.0  \n79341                      NaN   CC BY-SA 4.0  \n79342                      NaN   CC BY-SA 4.0  \n79343                      NaN   CC BY-SA 4.0  \n79344                      NaN   CC BY-SA 4.0  \n\n[79345 rows x 19 columns]",
      "text/html": "<div>\n<style scoped>\n    .dataframe tbody tr th:only-of-type {\n        vertical-align: middle;\n    }\n\n    .dataframe tbody tr th {\n        vertical-align: top;\n    }\n\n    .dataframe thead th {\n        text-align: right;\n    }\n</style>\n<table border=\"1\" class=\"dataframe\">\n  <thead>\n    <tr style=\"text-align: right;\">\n      <th></th>\n      <th>Id</th>\n      <th>PostTypeId</th>\n      <th>AcceptedAnswerId</th>\n      <th>ParentId</th>\n      <th>CreationDate</th>\n      <th>DeletionDate</th>\n      <th>Score</th>\n      <th>ViewCount</th>\n      <th>Body</th>\n      <th>LastEditDate</th>\n      <th>LastActivityDate</th>\n      <th>Title</th>\n      <th>Tags</th>\n      <th>AnswerCount</th>\n      <th>CommentCount</th>\n      <th>FavoriteCount</th>\n      <th>ClosedDate</th>\n      <th>CommunityOwnedDate</th>\n      <th>ContentLicense</th>\n    </tr>\n  </thead>\n  <tbody>\n    <tr>\n      <th>0</th>\n      <td>1496</td>\n      <td>1</td>\n      <td>1517.0</td>\n      <td>NaN</td>\n      <td>2008-08-04T18:51:38.543</td>\n      <td>NaN</td>\n      <td>34</td>\n      <td>9592</td>\n      <td>&lt;p&gt;For those of us that like to use the graphi...</td>\n      <td>2019-07-24T14:44:27.110</td>\n      <td>2019-07-24T14:44:27.110</td>\n      <td>What are the preferred versions of Vim and Ema...</td>\n      <td>&lt;macos&gt;&lt;vim&gt;&lt;emacs&gt;&lt;editor&gt;</td>\n      <td>13</td>\n      <td>0</td>\n      <td>6.0</td>\n      <td>2012-08-03T16:38:59.173</td>\n      <td>NaN</td>\n      <td>CC BY-SA 4.0</td>\n    </tr>\n    <tr>\n      <th>1</th>\n      <td>2898</td>\n      <td>1</td>\n      <td>2905.0</td>\n      <td>NaN</td>\n      <td>2008-08-05T21:42:37.763</td>\n      <td>NaN</td>\n      <td>51</td>\n      <td>129039</td>\n      <td>&lt;p&gt;Let me preface this question by saying I us...</td>\n      <td>2012-07-28T00:24:43.417</td>\n      <td>2021-01-13T14:01:19.757</td>\n      <td>Text Editor For Linux (Besides Vi)?</td>\n      <td>&lt;linux&gt;&lt;editor&gt;</td>\n      <td>34</td>\n      <td>2</td>\n      <td>19.0</td>\n      <td>2014-05-28T07:41:58.517</td>\n      <td>2009-05-03T11:37:34.303</td>\n      <td>CC BY-SA 2.5</td>\n    </tr>\n    <tr>\n      <th>2</th>\n      <td>10475</td>\n      <td>1</td>\n      <td>10479.0</td>\n      <td>NaN</td>\n      <td>2008-08-13T23:29:38.707</td>\n      <td>NaN</td>\n      <td>26</td>\n      <td>7864</td>\n      <td>&lt;p&gt;Since the keyboard is &lt;strong&gt;the&lt;/strong&gt; ...</td>\n      <td>2008-09-11T02:13:53.970</td>\n      <td>2012-04-01T10:03:18.760</td>\n      <td>Touch Typing Software recommendations</td>\n      <td>&lt;editor&gt;&lt;touch-typing&gt;</td>\n      <td>14</td>\n      <td>1</td>\n      <td>25.0</td>\n      <td>2012-03-01T06:12:03.993</td>\n      <td>NaN</td>\n      <td>CC BY-SA 2.5</td>\n    </tr>\n    <tr>\n      <th>3</th>\n      <td>10564</td>\n      <td>1</td>\n      <td>773973.0</td>\n      <td>NaN</td>\n      <td>2008-08-14T01:43:04.270</td>\n      <td>NaN</td>\n      <td>595</td>\n      <td>353209</td>\n      <td>&lt;p&gt;I'm trying out &lt;strong&gt;Git on Windows&lt;/stro...</td>\n      <td>2016-12-24T17:26:04.737</td>\n      <td>2021-07-26T08:56:26.523</td>\n      <td>How can I set up an editor to work with Git on...</td>\n      <td>&lt;windows&gt;&lt;git&gt;&lt;cygwin&gt;&lt;editor&gt;</td>\n      <td>35</td>\n      <td>7</td>\n      <td>288.0</td>\n      <td>NaN</td>\n      <td>NaN</td>\n      <td>CC BY-SA 2.5</td>\n    </tr>\n    <tr>\n      <th>4</th>\n      <td>11462</td>\n      <td>1</td>\n      <td>4500707.0</td>\n      <td>NaN</td>\n      <td>2008-08-14T18:30:01.160</td>\n      <td>NaN</td>\n      <td>21</td>\n      <td>19961</td>\n      <td>&lt;p&gt;Ok, I've seen a few posts that &lt;em&gt;mention&lt;...</td>\n      <td>2014-12-09T14:01:56.880</td>\n      <td>2014-12-09T14:01:56.880</td>\n      <td>Sharepoint Wikis</td>\n      <td>&lt;sharepoint&gt;&lt;automation&gt;&lt;sharepoint-wiki&gt;</td>\n      <td>17</td>\n      <td>0</td>\n      <td>6.0</td>\n      <td>NaN</td>\n      <td>NaN</td>\n      <td>CC BY-SA 3.0</td>\n    </tr>\n    <tr>\n      <th>...</th>\n      <td>...</td>\n      <td>...</td>\n      <td>...</td>\n      <td>...</td>\n      <td>...</td>\n      <td>...</td>\n      <td>...</td>\n      <td>...</td>\n      <td>...</td>\n      <td>...</td>\n      <td>...</td>\n      <td>...</td>\n      <td>...</td>\n      <td>...</td>\n      <td>...</td>\n      <td>...</td>\n      <td>...</td>\n      <td>...</td>\n      <td>...</td>\n    </tr>\n    <tr>\n      <th>79340</th>\n      <td>64002320</td>\n      <td>1</td>\n      <td>NaN</td>\n      <td>NaN</td>\n      <td>2020-09-22T02:38:02.267</td>\n      <td>NaN</td>\n      <td>0</td>\n      <td>534</td>\n      <td>&lt;p&gt;Im working on a component where a table is ...</td>\n      <td>NaN</td>\n      <td>2020-09-22T02:38:02.267</td>\n      <td>How do I add fieldinput values to an object in...</td>\n      <td>&lt;datatables&gt;&lt;attributes&gt;&lt;salesforce-lightning&gt;...</td>\n      <td>0</td>\n      <td>0</td>\n      <td>NaN</td>\n      <td>NaN</td>\n      <td>NaN</td>\n      <td>CC BY-SA 4.0</td>\n    </tr>\n    <tr>\n      <th>79341</th>\n      <td>64002582</td>\n      <td>1</td>\n      <td>NaN</td>\n      <td>NaN</td>\n      <td>2020-09-22T03:14:50.670</td>\n      <td>NaN</td>\n      <td>0</td>\n      <td>79</td>\n      <td>&lt;p&gt;let us  say arr1 has size  10 and arr2 is s...</td>\n      <td>NaN</td>\n      <td>2020-09-22T04:01:42.873</td>\n      <td>Is there a way torch.mode can be applied multi...</td>\n      <td>&lt;python&gt;&lt;numpy&gt;&lt;machine-learning&gt;&lt;pytorch&gt;&lt;knn&gt;</td>\n      <td>1</td>\n      <td>3</td>\n      <td>NaN</td>\n      <td>NaN</td>\n      <td>NaN</td>\n      <td>CC BY-SA 4.0</td>\n    </tr>\n    <tr>\n      <th>79342</th>\n      <td>64002652</td>\n      <td>1</td>\n      <td>NaN</td>\n      <td>NaN</td>\n      <td>2020-09-22T03:24:00.103</td>\n      <td>NaN</td>\n      <td>0</td>\n      <td>83</td>\n      <td>&lt;p&gt;I want to display records from fieldset val...</td>\n      <td>NaN</td>\n      <td>2020-09-22T03:24:00.103</td>\n      <td>Display records in lightning:dataTable from fi...</td>\n      <td>&lt;datatable&gt;&lt;salesforce&gt;&lt;salesforce-lightning&gt;</td>\n      <td>0</td>\n      <td>0</td>\n      <td>NaN</td>\n      <td>NaN</td>\n      <td>NaN</td>\n      <td>CC BY-SA 4.0</td>\n    </tr>\n    <tr>\n      <th>79343</th>\n      <td>64002720</td>\n      <td>1</td>\n      <td>NaN</td>\n      <td>NaN</td>\n      <td>2020-09-22T03:32:51.170</td>\n      <td>NaN</td>\n      <td>0</td>\n      <td>51</td>\n      <td>&lt;p&gt;Pretty straightforward... I'm running a Gri...</td>\n      <td>2020-09-23T10:19:12.950</td>\n      <td>2020-09-23T10:19:12.950</td>\n      <td>random forest with sub_balanced returns nan ev...</td>\n      <td>&lt;python&gt;&lt;scikit-learn&gt;&lt;classification&gt;&lt;random-...</td>\n      <td>0</td>\n      <td>4</td>\n      <td>NaN</td>\n      <td>NaN</td>\n      <td>NaN</td>\n      <td>CC BY-SA 4.0</td>\n    </tr>\n    <tr>\n      <th>79344</th>\n      <td>64003544</td>\n      <td>1</td>\n      <td>NaN</td>\n      <td>NaN</td>\n      <td>2020-09-22T05:26:26.570</td>\n      <td>NaN</td>\n      <td>1</td>\n      <td>32</td>\n      <td>&lt;p&gt;I deal with terms and acronyms, so I am equ...</td>\n      <td>2020-09-22T10:59:43.377</td>\n      <td>2020-09-22T10:59:43.377</td>\n      <td>Where do word vectors get computed?</td>\n      <td>&lt;nlp&gt;&lt;spacy&gt;</td>\n      <td>0</td>\n      <td>0</td>\n      <td>1.0</td>\n      <td>NaN</td>\n      <td>NaN</td>\n      <td>CC BY-SA 4.0</td>\n    </tr>\n  </tbody>\n</table>\n<p>79345 rows × 19 columns</p>\n</div>"
     },
     "execution_count": 4,
     "metadata": {},
     "output_type": "execute_result"
    }
   ],
   "source": [
    "df = pd.read_csv(OUTPUT2)\n",
    "df"
   ]
  },
  {
   "cell_type": "code",
   "execution_count": 5,
   "metadata": {},
   "outputs": [
    {
     "name": "stdout",
     "output_type": "stream",
     "text": [
      "removed nan, reworked total: 35223\n"
     ]
    }
   ],
   "source": [
    "answerIdDict = {}\n",
    "for index, row in df.iterrows():\n",
    "    # access data using column names\n",
    "    temp = row['AcceptedAnswerId']\n",
    "    # collect only not nan vlues with indexes\n",
    "    if not (temp != temp):\n",
    "        answerIdDict[int(temp)] = index\n",
    "\n",
    "print('removed nan, reworked total:', len(answerIdDict))\n",
    "\n"
   ]
  },
  {
   "cell_type": "code",
   "execution_count": 16,
   "metadata": {},
   "outputs": [],
   "source": [
    "context = ET.iterparse(POSTSFILE, events=(\"start\", \"end\"),\n",
    "                       parser=ET.XMLParser(encoding='utf-8'))"
   ]
  },
  {
   "cell_type": "code",
   "execution_count": 17,
   "outputs": [],
   "source": [
    "\n",
    "\n",
    "\n",
    "reacData=[]\n",
    "with open(OUTPUT2, newline='', encoding='utf-8') as file:\n",
    "    readData = [row for row in csv.DictReader(file)]"
   ],
   "metadata": {
    "collapsed": false,
    "pycharm": {
     "name": "#%%\n"
    }
   }
  },
  {
   "cell_type": "code",
   "execution_count": 18,
   "metadata": {},
   "outputs": [
    {
     "name": "stdout",
     "output_type": "stream",
     "text": [
      "Start Processing\n",
      "prossesed: 1000001 total_answers_gahtered: 374\n",
      "prossesed: 2000001 total_answers_gahtered: 697\n",
      "prossesed: 3000001 total_answers_gahtered: 1008\n",
      "prossesed: 4000001 total_answers_gahtered: 1300\n",
      "prossesed: 5000001 total_answers_gahtered: 1590\n",
      "prossesed: 6000001 total_answers_gahtered: 1841\n",
      "prossesed: 7000001 total_answers_gahtered: 2121\n",
      "prossesed: 8000001 total_answers_gahtered: 2392\n",
      "prossesed: 9000001 total_answers_gahtered: 2661\n",
      "prossesed: 10000001 total_answers_gahtered: 2896\n",
      "prossesed: 11000001 total_answers_gahtered: 3132\n",
      "prossesed: 12000001 total_answers_gahtered: 3341\n",
      "prossesed: 13000001 total_answers_gahtered: 3620\n",
      "prossesed: 14000001 total_answers_gahtered: 3848\n",
      "prossesed: 15000001 total_answers_gahtered: 4115\n",
      "prossesed: 16000001 total_answers_gahtered: 4347\n",
      "prossesed: 17000001 total_answers_gahtered: 4611\n",
      "prossesed: 18000001 total_answers_gahtered: 4858\n",
      "prossesed: 19000001 total_answers_gahtered: 5097\n",
      "prossesed: 20000001 total_answers_gahtered: 5370\n",
      "prossesed: 21000001 total_answers_gahtered: 5609\n",
      "prossesed: 22000001 total_answers_gahtered: 5835\n",
      "prossesed: 23000001 total_answers_gahtered: 6074\n",
      "prossesed: 24000001 total_answers_gahtered: 6305\n",
      "prossesed: 25000001 total_answers_gahtered: 6481\n",
      "prossesed: 26000001 total_answers_gahtered: 6719\n",
      "prossesed: 27000001 total_answers_gahtered: 6905\n",
      "prossesed: 28000001 total_answers_gahtered: 7111\n",
      "prossesed: 29000001 total_answers_gahtered: 7306\n",
      "prossesed: 30000001 total_answers_gahtered: 7502\n",
      "prossesed: 31000001 total_answers_gahtered: 7717\n",
      "prossesed: 32000001 total_answers_gahtered: 7900\n",
      "prossesed: 33000001 total_answers_gahtered: 8096\n",
      "prossesed: 34000001 total_answers_gahtered: 8304\n",
      "prossesed: 35000001 total_answers_gahtered: 8521\n",
      "prossesed: 36000001 total_answers_gahtered: 8721\n",
      "prossesed: 37000001 total_answers_gahtered: 8917\n",
      "prossesed: 38000001 total_answers_gahtered: 9124\n",
      "prossesed: 39000001 total_answers_gahtered: 9342\n",
      "prossesed: 40000001 total_answers_gahtered: 9545\n",
      "prossesed: 41000001 total_answers_gahtered: 9774\n",
      "prossesed: 42000001 total_answers_gahtered: 9968\n",
      "prossesed: 43000001 total_answers_gahtered: 10168\n",
      "prossesed: 44000001 total_answers_gahtered: 10369\n",
      "prossesed: 45000001 total_answers_gahtered: 10609\n",
      "prossesed: 46000001 total_answers_gahtered: 10840\n",
      "prossesed: 47000001 total_answers_gahtered: 11056\n",
      "prossesed: 48000001 total_answers_gahtered: 11329\n",
      "prossesed: 49000001 total_answers_gahtered: 11546\n",
      "prossesed: 50000001 total_answers_gahtered: 11785\n",
      "prossesed: 51000001 total_answers_gahtered: 12041\n",
      "prossesed: 52000001 total_answers_gahtered: 12319\n",
      "prossesed: 53000001 total_answers_gahtered: 12550\n",
      "prossesed: 54000001 total_answers_gahtered: 12813\n",
      "prossesed: 55000001 total_answers_gahtered: 13131\n",
      "prossesed: 56000001 total_answers_gahtered: 13462\n",
      "prossesed: 57000001 total_answers_gahtered: 13770\n",
      "prossesed: 58000001 total_answers_gahtered: 14065\n",
      "prossesed: 59000001 total_answers_gahtered: 14381\n",
      "prossesed: 60000001 total_answers_gahtered: 14750\n",
      "prossesed: 61000001 total_answers_gahtered: 15071\n",
      "prossesed: 62000001 total_answers_gahtered: 15429\n",
      "prossesed: 63000001 total_answers_gahtered: 15785\n",
      "prossesed: 64000001 total_answers_gahtered: 16089\n",
      "prossesed: 65000001 total_answers_gahtered: 16445\n",
      "prossesed: 66000001 total_answers_gahtered: 16816\n",
      "prossesed: 67000001 total_answers_gahtered: 17205\n",
      "prossesed: 68000001 total_answers_gahtered: 17668\n",
      "prossesed: 69000001 total_answers_gahtered: 18151\n",
      "prossesed: 70000001 total_answers_gahtered: 18589\n",
      "prossesed: 71000001 total_answers_gahtered: 19031\n",
      "prossesed: 72000001 total_answers_gahtered: 19575\n",
      "prossesed: 73000001 total_answers_gahtered: 20115\n",
      "prossesed: 74000001 total_answers_gahtered: 20593\n",
      "prossesed: 75000001 total_answers_gahtered: 21085\n",
      "prossesed: 76000001 total_answers_gahtered: 21601\n",
      "prossesed: 77000001 total_answers_gahtered: 22138\n",
      "prossesed: 78000001 total_answers_gahtered: 22706\n",
      "prossesed: 79000001 total_answers_gahtered: 23331\n",
      "prossesed: 80000001 total_answers_gahtered: 23860\n",
      "prossesed: 81000001 total_answers_gahtered: 24396\n",
      "prossesed: 82000001 total_answers_gahtered: 25015\n",
      "prossesed: 83000001 total_answers_gahtered: 25504\n",
      "prossesed: 84000001 total_answers_gahtered: 25998\n",
      "prossesed: 85000001 total_answers_gahtered: 26593\n",
      "prossesed: 86000001 total_answers_gahtered: 27081\n",
      "prossesed: 87000001 total_answers_gahtered: 27613\n",
      "prossesed: 88000001 total_answers_gahtered: 28100\n",
      "prossesed: 89000001 total_answers_gahtered: 28655\n",
      "prossesed: 90000001 total_answers_gahtered: 29169\n",
      "prossesed: 91000001 total_answers_gahtered: 29706\n",
      "prossesed: 92000001 total_answers_gahtered: 30224\n",
      "prossesed: 93000001 total_answers_gahtered: 30840\n",
      "prossesed: 94000001 total_answers_gahtered: 31443\n",
      "prossesed: 95000001 total_answers_gahtered: 32022\n",
      "prossesed: 96000001 total_answers_gahtered: 32678\n",
      "prossesed: 97000001 total_answers_gahtered: 33346\n",
      "prossesed: 98000001 total_answers_gahtered: 34027\n",
      "prossesed: 99000001 total_answers_gahtered: 34638\n",
      "prossesed: 100000001 total_answers_gahtered: 35123\n",
      "End Processing\n"
     ]
    }
   ],
   "source": [
    "print(\"Start Processing\")\n",
    "postcount =0\n",
    "logcounter=LOGAMOUNT\n",
    "\n",
    "\n",
    "with open(OUTPUT3, \"w\", newline=\"\", encoding='utf-8') as csvfile:\n",
    "    writer = csv.writer(csvfile)\n",
    "    _, root = next(context)\n",
    "    writer.writerow(COLS + ['AcceptedAnswer','AcceptedAnswerCreationDate'])\n",
    "    for i, item in enumerate(context):\n",
    "        event, elem = item\n",
    "\n",
    "        if logcounter < i < logcounter + LOGAMOUNT:\n",
    "            logcounter += LOGAMOUNT\n",
    "            print('prossesed:', i, 'total_answers_gahtered:', postcount)\n",
    "\n",
    "        if i > CUTTOFF:\n",
    "            break\n",
    "\n",
    "        if event == \"end\" and elem.tag == \"row\":\n",
    "            ansId = int(elem.attrib.get('Id', 'None'))\n",
    "            if ansId in answerIdDict:\n",
    "                postcount += 1\n",
    "\n",
    "                ansindex = answerIdDict[ansId]\n",
    "                readData[ansindex]['AcceptedAnswer'] = elem.attrib.get(\"Body\", '')\n",
    "                readData[ansindex]['AcceptedAnswerCreationDate'] = elem.attrib.get('CreationDate', '')\n",
    "                readHeader = readData[ansindex].keys()\n",
    "                row =[]\n",
    "\n",
    "                for _, header in enumerate(readHeader):\n",
    "                    row.append(readData[ansindex][header])\n",
    "\n",
    "                # print(row)\n",
    "                # print(type(readData[ansindex]))\n",
    "\n",
    "                writer.writerow(row)\n",
    "\n",
    "            elem.clear()\n",
    "            root.clear()\n",
    "\n",
    "            \n",
    "print(\"End Processing\")"
   ]
  },
  {
   "cell_type": "code",
   "execution_count": 19,
   "metadata": {
    "scrolled": true
   },
   "outputs": [
    {
     "name": "stderr",
     "output_type": "stream",
     "text": [
      "C:\\Users\\user\\anaconda3\\lib\\site-packages\\IPython\\core\\interactiveshell.py:3331: DtypeWarning: Columns (17) have mixed types.Specify dtype option on import or set low_memory=False.\n",
      "  exec(code_obj, self.user_global_ns, self.user_ns)\n"
     ]
    },
    {
     "data": {
      "text/plain": "             Id  PostTypeId  AcceptedAnswerId  ParentId  \\\n0          1496           1            1517.0       NaN   \n1          2898           1            2905.0       NaN   \n2         10475           1           10479.0       NaN   \n3         12009           1           12032.0       NaN   \n4         12492           1           12534.0       NaN   \n...         ...         ...               ...       ...   \n35118  63992902           1        63993870.0       NaN   \n35119  63994413           1        63996417.0       NaN   \n35120  63996947           1        63997974.0       NaN   \n35121  63996893           1        63999665.0       NaN   \n35122  63963955           1        64000790.0       NaN   \n\n                  CreationDate  DeletionDate  Score  ViewCount  \\\n0      2008-08-04T18:51:38.543           NaN     34       9592   \n1      2008-08-05T21:42:37.763           NaN     51     129039   \n2      2008-08-13T23:29:38.707           NaN     26       7864   \n3      2008-08-15T06:08:55.243           NaN     30      30439   \n4      2008-08-15T17:17:14.823           NaN     84      41385   \n...                        ...           ...    ...        ...   \n35118  2020-09-21T13:05:45.223           NaN      0        105   \n35119  2020-09-21T14:32:32.487           NaN      1        727   \n35120  2020-09-21T17:06:38.423           NaN      2         52   \n35121  2020-09-21T17:02:53.757           NaN      1         54   \n35122  2020-09-18T23:33:23.810           NaN      1        227   \n\n                                                    Body  \\\n0      <p>For those of us that like to use the graphi...   \n1      <p>Let me preface this question by saying I us...   \n2      <p>Since the keyboard is <strong>the</strong> ...   \n3      <p>How can I pipe the new password to smbpassw...   \n4      <p>I use emacs to edit my xml files (nxml-mode...   \n...                                                  ...   \n35118  <p>I have a convolutional neural network that ...   \n35119  <p>I have tried to implement K Fold Cross Vali...   \n35120  <p>A have two models with the same architectur...   \n35121  <p>I have the following list:</p>\\n<pre><code>...   \n35122  <p>I have spent 30 hours on this single proble...   \n\n                  LastEditDate  ...  \\\n0      2019-07-24T14:44:27.110  ...   \n1      2012-07-28T00:24:43.417  ...   \n2      2008-09-11T02:13:53.970  ...   \n3      2009-07-30T18:42:43.350  ...   \n4      2008-09-11T02:13:54.640  ...   \n...                        ...  ...   \n35118  2020-09-21T16:44:52.343  ...   \n35119  2020-09-21T15:24:05.847  ...   \n35120  2020-09-21T19:44:25.187  ...   \n35121  2020-09-21T18:10:08.590  ...   \n35122  2020-09-18T23:53:33.960  ...   \n\n                                                   Title  \\\n0      What are the preferred versions of Vim and Ema...   \n1                    Text Editor For Linux (Besides Vi)?   \n2                  Touch Typing Software recommendations   \n3                           Piping password to smbpasswd   \n4                     Pretty printing XML files on Emacs   \n...                                                  ...   \n35118  Fitting array to datagen then passing as param...   \n35119   How to use K-Fold Cross Validation For This CNN?   \n35120                  Interpolate weights in TensorFlow   \n35121      Find first match backwards in a list of lists   \n35122  Random Forest gets 98% accuracy in training an...   \n\n                                                    Tags AnswerCount  \\\n0                            <macos><vim><emacs><editor>          13   \n1                                        <linux><editor>          34   \n2                                 <editor><touch-typing>          14   \n3              <automation><installation><debian><samba>           7   \n4                                   <xml><emacs><editor>          15   \n...                                                  ...         ...   \n35118  <python><python-3.x><tensorflow><machine-learn...           1   \n35119  <python><machine-learning><keras><conv-neural-...           2   \n35120                     <tensorflow><machine-learning>           1   \n35121                         <python><regex><list><nlp>           1   \n35122  <python><machine-learning><scikit-learn><rando...           1   \n\n       CommentCount  FavoriteCount               ClosedDate  \\\n0                 0            6.0  2012-08-03T16:38:59.173   \n1                 2           19.0  2014-05-28T07:41:58.517   \n2                 1           25.0  2012-03-01T06:12:03.993   \n3                 0            8.0                      NaN   \n4                 0           32.0                      NaN   \n...             ...            ...                      ...   \n35118             0            NaN                      NaN   \n35119             0            NaN                      NaN   \n35120             1            NaN                      NaN   \n35121             3            NaN                      NaN   \n35122             6            NaN                      NaN   \n\n            CommunityOwnedDate ContentLicense  \\\n0                          NaN   CC BY-SA 4.0   \n1      2009-05-03T11:37:34.303   CC BY-SA 2.5   \n2                          NaN   CC BY-SA 2.5   \n3                          NaN   CC BY-SA 2.5   \n4                          NaN   CC BY-SA 2.5   \n...                        ...            ...   \n35118                      NaN   CC BY-SA 4.0   \n35119                      NaN   CC BY-SA 4.0   \n35120                      NaN   CC BY-SA 4.0   \n35121                      NaN   CC BY-SA 4.0   \n35122                      NaN   CC BY-SA 4.0   \n\n                                          AcceptedAnswer  \\\n0      <p><strong>MacVim</strong> works well and cert...   \n1      <p>Emacs is a wonderful text editor.  It has h...   \n2      <p><a href=\"http://en.wikipedia.org/wiki/Typin...   \n3      <p>Thanks to Mark I found the answer:</p>\\n\\n<...   \n4      <p>I use <a href=\"http://www.thaiopensource.co...   \n...                                                  ...   \n35118  <p>I think at this point you should just make ...   \n35119  <p>For more flexibility you can use a simple l...   \n35120  <p>That is because of the type mismatch. Both ...   \n35121  <p>This can probably somewhat simplified by us...   \n35122  <p>Fixed, The issue was the imbalance of datas...   \n\n      AcceptedAnswerCreationDate  \n0        2008-08-04T19:11:02.140  \n1        2008-08-05T21:49:12.180  \n2        2008-08-13T23:32:27.560  \n3        2008-08-15T06:38:59.287  \n4        2008-08-15T17:47:29.893  \n...                          ...  \n35118    2020-09-21T14:00:35.850  \n35119    2020-09-21T16:31:08.067  \n35120    2020-09-21T18:25:37.760  \n35121    2020-09-21T20:38:03.957  \n35122    2020-09-21T22:36:29.420  \n\n[35123 rows x 21 columns]",
      "text/html": "<div>\n<style scoped>\n    .dataframe tbody tr th:only-of-type {\n        vertical-align: middle;\n    }\n\n    .dataframe tbody tr th {\n        vertical-align: top;\n    }\n\n    .dataframe thead th {\n        text-align: right;\n    }\n</style>\n<table border=\"1\" class=\"dataframe\">\n  <thead>\n    <tr style=\"text-align: right;\">\n      <th></th>\n      <th>Id</th>\n      <th>PostTypeId</th>\n      <th>AcceptedAnswerId</th>\n      <th>ParentId</th>\n      <th>CreationDate</th>\n      <th>DeletionDate</th>\n      <th>Score</th>\n      <th>ViewCount</th>\n      <th>Body</th>\n      <th>LastEditDate</th>\n      <th>...</th>\n      <th>Title</th>\n      <th>Tags</th>\n      <th>AnswerCount</th>\n      <th>CommentCount</th>\n      <th>FavoriteCount</th>\n      <th>ClosedDate</th>\n      <th>CommunityOwnedDate</th>\n      <th>ContentLicense</th>\n      <th>AcceptedAnswer</th>\n      <th>AcceptedAnswerCreationDate</th>\n    </tr>\n  </thead>\n  <tbody>\n    <tr>\n      <th>0</th>\n      <td>1496</td>\n      <td>1</td>\n      <td>1517.0</td>\n      <td>NaN</td>\n      <td>2008-08-04T18:51:38.543</td>\n      <td>NaN</td>\n      <td>34</td>\n      <td>9592</td>\n      <td>&lt;p&gt;For those of us that like to use the graphi...</td>\n      <td>2019-07-24T14:44:27.110</td>\n      <td>...</td>\n      <td>What are the preferred versions of Vim and Ema...</td>\n      <td>&lt;macos&gt;&lt;vim&gt;&lt;emacs&gt;&lt;editor&gt;</td>\n      <td>13</td>\n      <td>0</td>\n      <td>6.0</td>\n      <td>2012-08-03T16:38:59.173</td>\n      <td>NaN</td>\n      <td>CC BY-SA 4.0</td>\n      <td>&lt;p&gt;&lt;strong&gt;MacVim&lt;/strong&gt; works well and cert...</td>\n      <td>2008-08-04T19:11:02.140</td>\n    </tr>\n    <tr>\n      <th>1</th>\n      <td>2898</td>\n      <td>1</td>\n      <td>2905.0</td>\n      <td>NaN</td>\n      <td>2008-08-05T21:42:37.763</td>\n      <td>NaN</td>\n      <td>51</td>\n      <td>129039</td>\n      <td>&lt;p&gt;Let me preface this question by saying I us...</td>\n      <td>2012-07-28T00:24:43.417</td>\n      <td>...</td>\n      <td>Text Editor For Linux (Besides Vi)?</td>\n      <td>&lt;linux&gt;&lt;editor&gt;</td>\n      <td>34</td>\n      <td>2</td>\n      <td>19.0</td>\n      <td>2014-05-28T07:41:58.517</td>\n      <td>2009-05-03T11:37:34.303</td>\n      <td>CC BY-SA 2.5</td>\n      <td>&lt;p&gt;Emacs is a wonderful text editor.  It has h...</td>\n      <td>2008-08-05T21:49:12.180</td>\n    </tr>\n    <tr>\n      <th>2</th>\n      <td>10475</td>\n      <td>1</td>\n      <td>10479.0</td>\n      <td>NaN</td>\n      <td>2008-08-13T23:29:38.707</td>\n      <td>NaN</td>\n      <td>26</td>\n      <td>7864</td>\n      <td>&lt;p&gt;Since the keyboard is &lt;strong&gt;the&lt;/strong&gt; ...</td>\n      <td>2008-09-11T02:13:53.970</td>\n      <td>...</td>\n      <td>Touch Typing Software recommendations</td>\n      <td>&lt;editor&gt;&lt;touch-typing&gt;</td>\n      <td>14</td>\n      <td>1</td>\n      <td>25.0</td>\n      <td>2012-03-01T06:12:03.993</td>\n      <td>NaN</td>\n      <td>CC BY-SA 2.5</td>\n      <td>&lt;p&gt;&lt;a href=\"http://en.wikipedia.org/wiki/Typin...</td>\n      <td>2008-08-13T23:32:27.560</td>\n    </tr>\n    <tr>\n      <th>3</th>\n      <td>12009</td>\n      <td>1</td>\n      <td>12032.0</td>\n      <td>NaN</td>\n      <td>2008-08-15T06:08:55.243</td>\n      <td>NaN</td>\n      <td>30</td>\n      <td>30439</td>\n      <td>&lt;p&gt;How can I pipe the new password to smbpassw...</td>\n      <td>2009-07-30T18:42:43.350</td>\n      <td>...</td>\n      <td>Piping password to smbpasswd</td>\n      <td>&lt;automation&gt;&lt;installation&gt;&lt;debian&gt;&lt;samba&gt;</td>\n      <td>7</td>\n      <td>0</td>\n      <td>8.0</td>\n      <td>NaN</td>\n      <td>NaN</td>\n      <td>CC BY-SA 2.5</td>\n      <td>&lt;p&gt;Thanks to Mark I found the answer:&lt;/p&gt;\\n\\n&lt;...</td>\n      <td>2008-08-15T06:38:59.287</td>\n    </tr>\n    <tr>\n      <th>4</th>\n      <td>12492</td>\n      <td>1</td>\n      <td>12534.0</td>\n      <td>NaN</td>\n      <td>2008-08-15T17:17:14.823</td>\n      <td>NaN</td>\n      <td>84</td>\n      <td>41385</td>\n      <td>&lt;p&gt;I use emacs to edit my xml files (nxml-mode...</td>\n      <td>2008-09-11T02:13:54.640</td>\n      <td>...</td>\n      <td>Pretty printing XML files on Emacs</td>\n      <td>&lt;xml&gt;&lt;emacs&gt;&lt;editor&gt;</td>\n      <td>15</td>\n      <td>0</td>\n      <td>32.0</td>\n      <td>NaN</td>\n      <td>NaN</td>\n      <td>CC BY-SA 2.5</td>\n      <td>&lt;p&gt;I use &lt;a href=\"http://www.thaiopensource.co...</td>\n      <td>2008-08-15T17:47:29.893</td>\n    </tr>\n    <tr>\n      <th>...</th>\n      <td>...</td>\n      <td>...</td>\n      <td>...</td>\n      <td>...</td>\n      <td>...</td>\n      <td>...</td>\n      <td>...</td>\n      <td>...</td>\n      <td>...</td>\n      <td>...</td>\n      <td>...</td>\n      <td>...</td>\n      <td>...</td>\n      <td>...</td>\n      <td>...</td>\n      <td>...</td>\n      <td>...</td>\n      <td>...</td>\n      <td>...</td>\n      <td>...</td>\n      <td>...</td>\n    </tr>\n    <tr>\n      <th>35118</th>\n      <td>63992902</td>\n      <td>1</td>\n      <td>63993870.0</td>\n      <td>NaN</td>\n      <td>2020-09-21T13:05:45.223</td>\n      <td>NaN</td>\n      <td>0</td>\n      <td>105</td>\n      <td>&lt;p&gt;I have a convolutional neural network that ...</td>\n      <td>2020-09-21T16:44:52.343</td>\n      <td>...</td>\n      <td>Fitting array to datagen then passing as param...</td>\n      <td>&lt;python&gt;&lt;python-3.x&gt;&lt;tensorflow&gt;&lt;machine-learn...</td>\n      <td>1</td>\n      <td>0</td>\n      <td>NaN</td>\n      <td>NaN</td>\n      <td>NaN</td>\n      <td>CC BY-SA 4.0</td>\n      <td>&lt;p&gt;I think at this point you should just make ...</td>\n      <td>2020-09-21T14:00:35.850</td>\n    </tr>\n    <tr>\n      <th>35119</th>\n      <td>63994413</td>\n      <td>1</td>\n      <td>63996417.0</td>\n      <td>NaN</td>\n      <td>2020-09-21T14:32:32.487</td>\n      <td>NaN</td>\n      <td>1</td>\n      <td>727</td>\n      <td>&lt;p&gt;I have tried to implement K Fold Cross Vali...</td>\n      <td>2020-09-21T15:24:05.847</td>\n      <td>...</td>\n      <td>How to use K-Fold Cross Validation For This CNN?</td>\n      <td>&lt;python&gt;&lt;machine-learning&gt;&lt;keras&gt;&lt;conv-neural-...</td>\n      <td>2</td>\n      <td>0</td>\n      <td>NaN</td>\n      <td>NaN</td>\n      <td>NaN</td>\n      <td>CC BY-SA 4.0</td>\n      <td>&lt;p&gt;For more flexibility you can use a simple l...</td>\n      <td>2020-09-21T16:31:08.067</td>\n    </tr>\n    <tr>\n      <th>35120</th>\n      <td>63996947</td>\n      <td>1</td>\n      <td>63997974.0</td>\n      <td>NaN</td>\n      <td>2020-09-21T17:06:38.423</td>\n      <td>NaN</td>\n      <td>2</td>\n      <td>52</td>\n      <td>&lt;p&gt;A have two models with the same architectur...</td>\n      <td>2020-09-21T19:44:25.187</td>\n      <td>...</td>\n      <td>Interpolate weights in TensorFlow</td>\n      <td>&lt;tensorflow&gt;&lt;machine-learning&gt;</td>\n      <td>1</td>\n      <td>1</td>\n      <td>NaN</td>\n      <td>NaN</td>\n      <td>NaN</td>\n      <td>CC BY-SA 4.0</td>\n      <td>&lt;p&gt;That is because of the type mismatch. Both ...</td>\n      <td>2020-09-21T18:25:37.760</td>\n    </tr>\n    <tr>\n      <th>35121</th>\n      <td>63996893</td>\n      <td>1</td>\n      <td>63999665.0</td>\n      <td>NaN</td>\n      <td>2020-09-21T17:02:53.757</td>\n      <td>NaN</td>\n      <td>1</td>\n      <td>54</td>\n      <td>&lt;p&gt;I have the following list:&lt;/p&gt;\\n&lt;pre&gt;&lt;code&gt;...</td>\n      <td>2020-09-21T18:10:08.590</td>\n      <td>...</td>\n      <td>Find first match backwards in a list of lists</td>\n      <td>&lt;python&gt;&lt;regex&gt;&lt;list&gt;&lt;nlp&gt;</td>\n      <td>1</td>\n      <td>3</td>\n      <td>NaN</td>\n      <td>NaN</td>\n      <td>NaN</td>\n      <td>CC BY-SA 4.0</td>\n      <td>&lt;p&gt;This can probably somewhat simplified by us...</td>\n      <td>2020-09-21T20:38:03.957</td>\n    </tr>\n    <tr>\n      <th>35122</th>\n      <td>63963955</td>\n      <td>1</td>\n      <td>64000790.0</td>\n      <td>NaN</td>\n      <td>2020-09-18T23:33:23.810</td>\n      <td>NaN</td>\n      <td>1</td>\n      <td>227</td>\n      <td>&lt;p&gt;I have spent 30 hours on this single proble...</td>\n      <td>2020-09-18T23:53:33.960</td>\n      <td>...</td>\n      <td>Random Forest gets 98% accuracy in training an...</td>\n      <td>&lt;python&gt;&lt;machine-learning&gt;&lt;scikit-learn&gt;&lt;rando...</td>\n      <td>1</td>\n      <td>6</td>\n      <td>NaN</td>\n      <td>NaN</td>\n      <td>NaN</td>\n      <td>CC BY-SA 4.0</td>\n      <td>&lt;p&gt;Fixed, The issue was the imbalance of datas...</td>\n      <td>2020-09-21T22:36:29.420</td>\n    </tr>\n  </tbody>\n</table>\n<p>35123 rows × 21 columns</p>\n</div>"
     },
     "execution_count": 19,
     "metadata": {},
     "output_type": "execute_result"
    }
   ],
   "source": [
    "df = pd.read_csv(OUTPUT3)\n",
    "df"
   ]
  },
  {
   "cell_type": "code",
   "execution_count": 20,
   "metadata": {},
   "outputs": [
    {
     "name": "stdout",
     "output_type": "stream",
     "text": [
      "removed nan, reworked total: 35123\n"
     ]
    }
   ],
   "source": [
    "questionIdDict = {}\n",
    "for index, row in df.iterrows():\n",
    "    temp = row['Id']\n",
    "    if not (temp != temp):\n",
    "        questionIdDict[int(temp)] = index\n",
    "        \n",
    "print('removed nan, reworked total:',len(questionIdDict))"
   ]
  },
  {
   "cell_type": "code",
   "execution_count": 21,
   "metadata": {},
   "outputs": [
    {
     "data": {
      "text/plain": "{1496: 0,\n 2898: 1,\n 10475: 2,\n 12009: 3,\n 12492: 4,\n 12523: 5,\n 14410: 6,\n 15815: 7,\n 16064: 8,\n 16991: 9,\n 18696: 10,\n 17880: 11,\n 20533: 12,\n 21274: 13,\n 24595: 14,\n 24610: 15,\n 24678: 16,\n 26897: 17,\n 22326: 18,\n 30160: 19,\n 21725: 20,\n 36533: 21,\n 39037: 22,\n 39916: 23,\n 40943: 24,\n 39996: 25,\n 41424: 26,\n 47167: 27,\n 48006: 28,\n 49724: 29,\n 46454: 30,\n 58757: 31,\n 59472: 32,\n 48782: 33,\n 61655: 34,\n 61760: 35,\n 62328: 36,\n 63378: 37,\n 64293: 38,\n 65800: 39,\n 66776: 40,\n 66934: 41,\n 67729: 42,\n 68335: 43,\n 60152: 44,\n 71336: 45,\n 71985: 46,\n 73319: 47,\n 74625: 48,\n 77128: 49,\n 80021: 50,\n 82726: 51,\n 87299: 52,\n 76870: 53,\n 88399: 54,\n 89275: 55,\n 90580: 56,\n 91834: 57,\n 92006: 58,\n 91984: 59,\n 96066: 60,\n 100592: 61,\n 93415: 62,\n 103155: 63,\n 102384: 64,\n 103918: 65,\n 104878: 66,\n 105721: 67,\n 107903: 68,\n 111683: 69,\n 116658: 70,\n 120075: 71,\n 120862: 72,\n 122402: 73,\n 122198: 74,\n 73927: 75,\n 122595: 76,\n 127238: 77,\n 128625: 78,\n 130193: 79,\n 131728: 80,\n 133626: 81,\n 135734: 82,\n 137360: 83,\n 137407: 84,\n 137380: 85,\n 141372: 86,\n 142071: 87,\n 142481: 88,\n 143554: 89,\n 144339: 90,\n 147104: 91,\n 147867: 92,\n 149600: 93,\n 152241: 94,\n 154245: 95,\n 153666: 96,\n 156707: 97,\n 159521: 98,\n 102829: 99,\n 162025: 100,\n 163923: 101,\n 165151: 102,\n 165987: 103,\n 170452: 104,\n 176058: 105,\n 180435: 106,\n 187289: 107,\n 189288: 108,\n 190503: 109,\n 190775: 110,\n 190956: 111,\n 194754: 112,\n 195010: 113,\n 195359: 114,\n 195485: 115,\n 196820: 116,\n 196924: 117,\n 198279: 118,\n 199056: 119,\n 199045: 120,\n 201848: 121,\n 202334: 122,\n 202750: 123,\n 206763: 124,\n 89465: 125,\n 209211: 126,\n 209790: 127,\n 211258: 128,\n 211841: 129,\n 212219: 130,\n 219549: 131,\n 225266: 132,\n 226342: 133,\n 227069: 134,\n 228042: 135,\n 229069: 136,\n 230266: 137,\n 230829: 138,\n 103202: 139,\n 235839: 140,\n 244235: 141,\n 245082: 142,\n 242982: 143,\n 245507: 144,\n 247568: 145,\n 255624: 146,\n 253982: 147,\n 256365: 148,\n 257125: 149,\n 257251: 150,\n 257333: 151,\n 253820: 152,\n 261374: 153,\n 261522: 154,\n 267843: 155,\n 239323: 156,\n 196909: 157,\n 270192: 158,\n 270930: 159,\n 276465: 160,\n 278932: 161,\n 280818: 162,\n 281276: 163,\n 285848: 164,\n 285904: 165,\n 285816: 166,\n 287369: 167,\n 290464: 168,\n 273425: 169,\n 272847: 170,\n 293000: 171,\n 293854: 172,\n 295421: 173,\n 299114: 174,\n 299876: 175,\n 304564: 176,\n 251505: 177,\n 299577: 178,\n 307291: 179,\n 308685: 180,\n 309884: 181,\n 309135: 182,\n 313643: 183,\n 325328: 184,\n 325404: 185,\n 319578: 186,\n 296513: 187,\n 327856: 188,\n 327555: 189,\n 332717: 190,\n 337853: 191,\n 339133: 192,\n 308860: 193,\n 341130: 194,\n 345147: 195,\n 314134: 196,\n 349121: 197,\n 348958: 198,\n 352392: 199,\n 356126: 200,\n 359717: 201,\n 361296: 202,\n 364539: 203,\n 364642: 204,\n 366211: 205,\n 367962: 206,\n 369104: 207,\n 333598: 208,\n 371618: 209,\n 373985: 210,\n 376683: 211,\n 382781: 212,\n 384124: 213,\n 188176: 214,\n 393167: 215,\n 393248: 216,\n 393996: 217,\n 401440: 218,\n 125143: 219,\n 392283: 220,\n 404997: 221,\n 405161: 222,\n 405415: 223,\n 402486: 224,\n 406403: 225,\n 406518: 226,\n 318097: 227,\n 409913: 228,\n 409434: 229,\n 415198: 230,\n 416102: 231,\n 417380: 232,\n 421004: 233,\n 423965: 234,\n 428021: 235,\n 428126: 236,\n 429594: 237,\n 432441: 238,\n 423973: 239,\n 438530: 240,\n 441126: 241,\n 432036: 242,\n 444321: 243,\n 445488: 244,\n 450209: 245,\n 450493: 246,\n 451228: 247,\n 452905: 248,\n 454175: 249,\n 454457: 250,\n 455140: 251,\n 455326: 252,\n 456415: 253,\n 458581: 254,\n 459408: 255,\n 458435: 256,\n 465271: 257,\n 469556: 258,\n 471029: 259,\n 472030: 260,\n 474967: 261,\n 475200: 262,\n 466917: 263,\n 479825: 264,\n 473887: 265,\n 480311: 266,\n 480316: 267,\n 480683: 268,\n 476163: 269,\n 483348: 270,\n 476939: 271,\n 485969: 272,\n 491971: 273,\n 495268: 274,\n 501675: 275,\n 495785: 276,\n 503381: 277,\n 507092: 278,\n 508541: 279,\n 510506: 280,\n 411913: 281,\n 515371: 282,\n 521979: 283,\n 526037: 284,\n 529442: 285,\n 530171: 286,\n 531581: 287,\n 533007: 288,\n 271007: 289,\n 541675: 290,\n 544595: 291,\n 545056: 292,\n 540023: 293,\n 548987: 294,\n 548951: 295,\n 531957: 296,\n 553158: 297,\n 554684: 298,\n 559510: 299,\n 549344: 300,\n 571808: 301,\n 573022: 302,\n 573620: 303,\n 573768: 304,\n 573649: 305,\n 578978: 306,\n 577894: 307,\n 578564: 308,\n 583291: 309,\n 579203: 310,\n 590960: 311,\n 592125: 312,\n 593037: 313,\n 593214: 314,\n 594831: 315,\n 594708: 316,\n 595110: 317,\n 597077: 318,\n 598726: 319,\n 326366: 320,\n 599776: 321,\n 596914: 322,\n 605388: 323,\n 605622: 324,\n 607854: 325,\n 608684: 326,\n 608743: 327,\n 610399: 328,\n 611214: 329,\n 612102: 330,\n 612866: 331,\n 428438: 332,\n 619807: 333,\n 620154: 334,\n 621368: 335,\n 621880: 336,\n 623040: 337,\n 628311: 338,\n 628297: 339,\n 282905: 340,\n 611075: 341,\n 23689: 342,\n 636797: 343,\n 609190: 344,\n 639006: 345,\n 641300: 346,\n 642698: 347,\n 641427: 348,\n 649413: 349,\n 647830: 350,\n 70161: 351,\n 653345: 352,\n 653634: 353,\n 657614: 354,\n 644158: 355,\n 656128: 356,\n 659018: 357,\n 660683: 358,\n 497269: 359,\n 664022: 360,\n 675410: 361,\n 428819: 362,\n 686604: 363,\n 689646: 364,\n 690160: 365,\n 695096: 366,\n 698272: 367,\n 698410: 368,\n 699434: 369,\n 679347: 370,\n 702006: 371,\n 704234: 372,\n 135777: 373,\n 707879: 374,\n 707916: 375,\n 710378: 376,\n 710843: 377,\n 713889: 378,\n 714830: 379,\n 715777: 380,\n 719820: 381,\n 673617: 382,\n 719624: 383,\n 726293: 384,\n 732253: 385,\n 727373: 386,\n 734306: 387,\n 735634: 388,\n 736704: 389,\n 729374: 390,\n 738755: 391,\n 742711: 392,\n 742686: 393,\n 740389: 394,\n 744801: 395,\n 745334: 396,\n 746109: 397,\n 746319: 398,\n 749640: 399,\n 723397: 400,\n 749725: 401,\n 750658: 402,\n 751065: 403,\n 753671: 404,\n 729543: 405,\n 761547: 406,\n 762613: 407,\n 763428: 408,\n 767545: 409,\n 767804: 410,\n 767259: 411,\n 769775: 412,\n 771087: 413,\n 771658: 414,\n 773137: 415,\n 10564: 416,\n 784019: 417,\n 122404: 418,\n 788262: 419,\n 777586: 420,\n 786884: 421,\n 795915: 422,\n 787996: 423,\n 796412: 424,\n 801867: 425,\n 778502: 426,\n 803149: 427,\n 805910: 428,\n 811917: 429,\n 815423: 430,\n 815292: 431,\n 816918: 432,\n 818628: 433,\n 819866: 434,\n 820895: 435,\n 821902: 436,\n 822184: 437,\n 825180: 438,\n 825846: 439,\n 823764: 440,\n 770238: 441,\n 829894: 442,\n 820845: 443,\n 833828: 444,\n 834352: 445,\n 834855: 446,\n 836318: 447,\n 837754: 448,\n 839360: 449,\n 839629: 450,\n 790392: 451,\n 842731: 452,\n 841831: 453,\n 843037: 454,\n 843218: 455,\n 845092: 456,\n 845527: 457,\n 845943: 458,\n 851353: 459,\n 852696: 460,\n 855662: 461,\n 826191: 462,\n 860013: 463,\n 862599: 464,\n 860809: 465,\n 863781: 466,\n 864874: 467,\n 757800: 468,\n 868609: 469,\n 870770: 470,\n 871560: 471,\n 870460: 472,\n 816568: 473,\n 873712: 474,\n 879432: 475,\n 880636: 476,\n 883332: 477,\n 879575: 478,\n 838782: 479,\n 825254: 480,\n 891772: 481,\n 889689: 482,\n 894426: 483,\n 895893: 484,\n 896795: 485,\n 895342: 486,\n 907098: 487,\n 908211: 488,\n 908705: 489,\n 883305: 490,\n 916827: 491,\n 910026: 492,\n 892187: 493,\n 912671: 494,\n 917662: 495,\n 925891: 496,\n 928223: 497,\n 930852: 498,\n 915152: 499,\n 921467: 500,\n 943030: 501,\n 945382: 502,\n 942091: 503,\n 946188: 504,\n 949440: 505,\n 949730: 506,\n 950265: 507,\n 951185: 508,\n 952886: 509,\n 953863: 510,\n 954707: 511,\n 955198: 512,\n 953962: 513,\n 957320: 514,\n 958347: 515,\n 933212: 516,\n 951764: 517,\n 754879: 518,\n 965763: 519,\n 966576: 520,\n 972345: 521,\n 976651: 522,\n 980932: 523,\n 982195: 524,\n 984244: 525,\n 984992: 526,\n 979022: 527,\n 969406: 528,\n 990919: 529,\n 990226: 530,\n 996187: 531,\n 998767: 532,\n 998832: 533,\n 999410: 534,\n 1001937: 535,\n 1000804: 536,\n 1003330: 537,\n 1004277: 538,\n 1001322: 539,\n 1006168: 540,\n 1007215: 541,\n 1006193: 542,\n 1008220: 543,\n 1015765: 544,\n 1018663: 545,\n 1020168: 546,\n 1020524: 547,\n 1023361: 548,\n 859066: 549,\n 1032288: 550,\n 1037532: 551,\n 1037836: 552,\n 1042849: 553,\n 1023933: 554,\n 1047050: 555,\n 1057863: 556,\n 995041: 557,\n 1070388: 558,\n 1072662: 559,\n 1072097: 560,\n 1073366: 561,\n 1040491: 562,\n 1066430: 563,\n 1075947: 564,\n 1079406: 565,\n 1079702: 566,\n 1082789: 567,\n 137425: 568,\n 1086797: 569,\n 1087350: 570,\n 1088848: 571,\n 1093699: 572,\n 1095176: 573,\n 1095147: 574,\n 1092455: 575,\n 1098891: 576,\n 1098898: 577,\n 1096009: 578,\n 1104429: 579,\n 1105766: 580,\n 1111607: 581,\n 1116309: 582,\n 1116612: 583,\n 1118272: 584,\n 1119453: 585,\n 1093167: 586,\n 649135: 587,\n 1118161: 588,\n 1132854: 589,\n 1134719: 590,\n 1137763: 591,\n 1138638: 592,\n 549575: 593,\n 1140908: 594,\n 1142294: 595,\n 1143984: 596,\n 1144929: 597,\n 1132805: 598,\n 1142998: 599,\n 1147907: 600,\n 1148513: 601,\n 1150572: 602,\n 1151680: 603,\n 1018241: 604,\n 1068007: 605,\n 1161976: 606,\n 1162967: 607,\n 1163151: 608,\n 1163099: 609,\n 1163376: 610,\n 1163725: 611,\n 1164858: 612,\n 1164138: 613,\n 1167262: 614,\n 1148727: 615,\n 1145125: 616,\n 1175803: 617,\n 1151347: 618,\n 1182134: 619,\n 1184099: 620,\n 1185396: 621,\n 1186750: 622,\n 1187606: 623,\n 1188279: 624,\n 1188485: 625,\n 1189227: 626,\n 1188545: 627,\n 1189896: 628,\n 1191459: 629,\n 1191652: 630,\n 1196870: 631,\n 303325: 632,\n 1200980: 633,\n 349086: 634,\n 1205149: 635,\n 1210312: 636,\n 1210612: 637,\n 1213723: 638,\n 1216894: 639,\n 1218335: 640,\n 1217004: 641,\n 1224980: 642,\n 1220628: 643,\n 1225777: 644,\n 1170372: 645,\n 405212: 646,\n 1231457: 647,\n 1232167: 648,\n 1235597: 649,\n 1236439: 650,\n 1234302: 651,\n 1164765: 652,\n 1241179: 653,\n 1242337: 654,\n 461869: 655,\n 1248895: 656,\n 1249497: 657,\n 1250792: 658,\n 1242814: 659,\n 1252767: 660,\n 1254627: 661,\n 1133629: 662,\n 1256874: 663,\n 1258428: 664,\n 1259986: 665,\n 1260689: 666,\n 1012502: 667,\n 1243708: 668,\n 1267799: 669,\n 1251158: 670,\n 1268741: 671,\n 1271918: 672,\n 1269146: 673,\n 1272334: 674,\n 1278111: 675,\n 1282100: 676,\n 1283564: 677,\n 1284580: 678,\n 1284782: 679,\n 1249041: 680,\n 1286301: 681,\n 1288291: 682,\n 1267827: 683,\n 1291305: 684,\n 1292208: 685,\n 1291377: 686,\n 1294291: 687,\n 1308306: 688,\n 1295417: 689,\n 1309315: 690,\n 1311658: 691,\n 1317313: 692,\n 1318197: 693,\n 1318470: 694,\n 1321720: 695,\n 1321146: 696,\n 536132: 697,\n 1327674: 698,\n 1338203: 699,\n 1340521: 700,\n 1334933: 701,\n 1343479: 702,\n 1343763: 703,\n 1346737: 704,\n 1294873: 705,\n 1350090: 706,\n 1355025: 707,\n 226262: 708,\n 1358129: 709,\n 1359553: 710,\n 1340950: 711,\n 1323790: 712,\n 1365830: 713,\n 1232424: 714,\n 1373516: 715,\n 1372467: 716,\n 1375846: 717,\n 1377020: 718,\n 1381730: 719,\n 1381960: 720,\n 1372207: 721,\n 1384021: 722,\n 1360965: 723,\n 1328252: 724,\n 1335896: 725,\n 1391415: 726,\n 1390329: 727,\n 1391617: 728,\n 1391862: 729,\n 1398558: 730,\n 1399480: 731,\n 1400255: 732,\n 1351824: 733,\n 1203028: 734,\n 1400607: 735,\n 1402370: 736,\n 1403060: 737,\n 815765: 738,\n 1404515: 739,\n 1404658: 740,\n 1404704: 741,\n 1411190: 742,\n 1418987: 743,\n 1417120: 744,\n 1423667: 745,\n 1427113: 746,\n 1432096: 747,\n 1430164: 748,\n 1303987: 749,\n 1430476: 750,\n 1442841: 751,\n 1444054: 752,\n 1444148: 753,\n 1445992: 754,\n 1449215: 755,\n 1450750: 756,\n 1451768: 757,\n 1454489: 758,\n 1453552: 759,\n 1453723: 760,\n 1457069: 761,\n 1457406: 762,\n 1457445: 763,\n 1461955: 764,\n 1465455: 765,\n 1404291: 766,\n 1438844: 767,\n 1468705: 768,\n 1468962: 769,\n 1469386: 770,\n 1470067: 771,\n 1477502: 772,\n 1479331: 773,\n 1481086: 774,\n 1481751: 775,\n 1486121: 776,\n 1486369: 777,\n 1487890: 778,\n 1471816: 779,\n 1487406: 780,\n 1490061: 781,\n 1491494: 782,\n 1492860: 783,\n 1495064: 784,\n 1495417: 785,\n 1490920: 786,\n 1379856: 787,\n 1311162: 788,\n 1468636: 789,\n 1508692: 790,\n 1514488: 791,\n 1526332: 792,\n 1529795: 793,\n 1530604: 794,\n 1532756: 795,\n 1535402: 796,\n 1538444: 797,\n 1546346: 798,\n 1064372: 799,\n 1552042: 800,\n 1559464: 801,\n 1559851: 802,\n 1560929: 803,\n 297226: 804,\n 1566556: 805,\n 1567363: 806,\n 1567589: 807,\n 1567598: 808,\n 1572205: 809,\n 1576129: 810,\n 1582426: 811,\n 1586153: 812,\n 1587187: 813,\n 1588374: 814,\n 1589911: 815,\n 1598940: 816,\n 1552039: 817,\n 1600502: 818,\n 1602302: 819,\n 1604181: 820,\n 1605705: 821,\n 1578692: 822,\n 1607183: 823,\n 1607731: 824,\n 1609112: 825,\n 1559994: 826,\n 1613072: 827,\n 483064: 828,\n 1616141: 829,\n 1617596: 830,\n 1613886: 831,\n 1620018: 832,\n 1612511: 833,\n 1624060: 834,\n 1626123: 835,\n 1511608: 836,\n 1629711: 837,\n 1627952: 838,\n 1580595: 839,\n 1552583: 840,\n 1634073: 841,\n 1634498: 842,\n 1622371: 843,\n 1635848: 844,\n 1636131: 845,\n 1639755: 846,\n 1639855: 847,\n 1640068: 848,\n 1627497: 849,\n 1641635: 850,\n 1643001: 851,\n 1643616: 852,\n 1646451: 853,\n 1649305: 854,\n 1654842: 855,\n 1656749: 856,\n 1657387: 857,\n 1658843: 858,\n 1659904: 859,\n 1660725: 860,\n 1655782: 861,\n 1663856: 862,\n 1665068: 863,\n 1672850: 864,\n 1676266: 865,\n 1680019: 866,\n 1687510: 867,\n 1689570: 868,\n 1680390: 869,\n 1686567: 870,\n 1695971: 871,\n 1695650: 872,\n 1695841: 873,\n 1697013: 874,\n 1694941: 875,\n 1696914: 876,\n 1699151: 877,\n 1700203: 878,\n 1703492: 879,\n 1704028: 880,\n 1704933: 881,\n 1705451: 882,\n 1710660: 883,\n 1709958: 884,\n 1697243: 885,\n 1701925: 886,\n 1715723: 887,\n 1715901: 888,\n 1716467: 889,\n 1081466: 890,\n 1719865: 891,\n 1649869: 892,\n 1724586: 893,\n 1725942: 894,\n 1735125: 895,\n 1736451: 896,\n 1731143: 897,\n 1742593: 898,\n 1743515: 899,\n 1744471: 900,\n 1258834: 901,\n 1747282: 902,\n 1717094: 903,\n 1754115: 904,\n 1757572: 905,\n 1111709: 906,\n 1758817: 907,\n 1757224: 908,\n 1756541: 909,\n 1760830: 910,\n 1763165: 911,\n 1754873: 912,\n 1766461: 913,\n 1742890: 914,\n 1771360: 915,\n 1771558: 916,\n 1775005: 917,\n 1778457: 918,\n 1778501: 919,\n 1783254: 920,\n 1783669: 921,\n 1787110: 922,\n 1787711: 923,\n 1787755: 924,\n 1789254: 925,\n 1790698: 926,\n 1793516: 927,\n 1798889: 928,\n 1799887: 929,\n 1802616: 930,\n 1605493: 931,\n 1805099: 932,\n 1806827: 933,\n 1813913: 934,\n 1783653: 935,\n 1686975: 936,\n 1812926: 937,\n 1818266: 938,\n 1820811: 939,\n 1821311: 940,\n 1804684: 941,\n 1830437: 942,\n 1830554: 943,\n 1830886: 944,\n 1831158: 945,\n 1461261: 946,\n 1826147: 947,\n 1833252: 948,\n 1833725: 949,\n 1835605: 950,\n 1836235: 951,\n 662605: 952,\n 1836853: 953,\n 1829150: 954,\n 1840386: 955,\n 1841435: 956,\n 1844088: 957,\n 1848929: 958,\n 1849001: 959,\n 196636: 960,\n 1832076: 961,\n 1855907: 962,\n 1859328: 963,\n 1863811: 964,\n 1864445: 965,\n 1865009: 966,\n 1862715: 967,\n 1869305: 968,\n 1869895: 969,\n 1870155: 970,\n 1870813: 971,\n 1451006: 972,\n 1872453: 973,\n 1876103: 974,\n 1877505: 975,\n 1877749: 976,\n 1880523: 977,\n 1852191: 978,\n 1881815: 979,\n 1885722: 980,\n 1885969: 981,\n 1889675: 982,\n 1891513: 983,\n 1893429: 984,\n 1795410: 985,\n 1731752: 986,\n 1902967: 987,\n 1901862: 988,\n 1908139: 989,\n 1908329: 990,\n 1913143: 991,\n 1913318: 992,\n 1914030: 993,\n 1914431: 994,\n 1915371: 995,\n 1909042: 996,\n 1916490: 997,\n 1918670: 998,\n 1907202: 999,\n ...}"
     },
     "execution_count": 21,
     "metadata": {},
     "output_type": "execute_result"
    }
   ],
   "source": [
    "questionIdDict"
   ]
  },
  {
   "cell_type": "code",
   "execution_count": 22,
   "metadata": {},
   "outputs": [],
   "source": [
    "context = ET.iterparse(POSTSFILE, events=(\"start\", \"end\"),\n",
    "                       parser=ET.XMLParser(encoding='utf-8'))"
   ]
  },
  {
   "cell_type": "code",
   "execution_count": 23,
   "metadata": {},
   "outputs": [
    {
     "name": "stdout",
     "output_type": "stream",
     "text": [
      "Start Processing\n",
      "prossesed: 1000000 total_questions_gahtered: 1915\n",
      "prossesed: 2000000 total_questions_gahtered: 3072\n",
      "prossesed: 3000000 total_questions_gahtered: 4074\n",
      "prossesed: 4000000 total_questions_gahtered: 4936\n",
      "prossesed: 5000000 total_questions_gahtered: 5711\n",
      "prossesed: 6000000 total_questions_gahtered: 6333\n",
      "prossesed: 7000000 total_questions_gahtered: 6996\n",
      "prossesed: 8000000 total_questions_gahtered: 7606\n",
      "prossesed: 9000000 total_questions_gahtered: 8167\n",
      "prossesed: 10000000 total_questions_gahtered: 8665\n",
      "prossesed: 11000000 total_questions_gahtered: 9136\n",
      "prossesed: 12000000 total_questions_gahtered: 9591\n",
      "prossesed: 13000000 total_questions_gahtered: 10138\n",
      "prossesed: 14000000 total_questions_gahtered: 10595\n",
      "prossesed: 15000000 total_questions_gahtered: 11145\n",
      "prossesed: 16000000 total_questions_gahtered: 11615\n",
      "prossesed: 17000000 total_questions_gahtered: 12114\n",
      "prossesed: 18000000 total_questions_gahtered: 12557\n",
      "prossesed: 19000000 total_questions_gahtered: 13021\n",
      "prossesed: 20000000 total_questions_gahtered: 13486\n",
      "prossesed: 21000000 total_questions_gahtered: 13916\n",
      "prossesed: 22000000 total_questions_gahtered: 14329\n",
      "prossesed: 23000000 total_questions_gahtered: 14767\n",
      "prossesed: 24000000 total_questions_gahtered: 15185\n",
      "prossesed: 25000000 total_questions_gahtered: 15505\n",
      "prossesed: 26000000 total_questions_gahtered: 15938\n",
      "prossesed: 27000000 total_questions_gahtered: 16266\n",
      "prossesed: 28000000 total_questions_gahtered: 16645\n",
      "prossesed: 29000000 total_questions_gahtered: 17008\n",
      "prossesed: 30000000 total_questions_gahtered: 17320\n",
      "prossesed: 31000000 total_questions_gahtered: 17701\n",
      "prossesed: 32000000 total_questions_gahtered: 18037\n",
      "prossesed: 33000000 total_questions_gahtered: 18362\n",
      "prossesed: 34000000 total_questions_gahtered: 18733\n",
      "prossesed: 35000000 total_questions_gahtered: 19090\n",
      "prossesed: 36000000 total_questions_gahtered: 19430\n",
      "prossesed: 37000000 total_questions_gahtered: 19763\n",
      "prossesed: 38000000 total_questions_gahtered: 20119\n",
      "prossesed: 39000000 total_questions_gahtered: 20464\n",
      "prossesed: 40000000 total_questions_gahtered: 20797\n",
      "prossesed: 41000000 total_questions_gahtered: 21134\n",
      "prossesed: 42000000 total_questions_gahtered: 21454\n",
      "prossesed: 43000000 total_questions_gahtered: 21758\n",
      "prossesed: 44000000 total_questions_gahtered: 22103\n",
      "prossesed: 45000000 total_questions_gahtered: 22495\n",
      "prossesed: 46000000 total_questions_gahtered: 22866\n",
      "prossesed: 47000000 total_questions_gahtered: 23199\n",
      "prossesed: 48000000 total_questions_gahtered: 23613\n",
      "prossesed: 49000000 total_questions_gahtered: 23948\n",
      "prossesed: 50000000 total_questions_gahtered: 24329\n",
      "prossesed: 51000000 total_questions_gahtered: 24721\n",
      "prossesed: 52000000 total_questions_gahtered: 25141\n",
      "prossesed: 53000000 total_questions_gahtered: 25526\n",
      "prossesed: 54000000 total_questions_gahtered: 25924\n",
      "prossesed: 55000000 total_questions_gahtered: 26399\n",
      "prossesed: 56000000 total_questions_gahtered: 26890\n",
      "prossesed: 57000000 total_questions_gahtered: 27373\n",
      "prossesed: 58000000 total_questions_gahtered: 27806\n",
      "prossesed: 59000000 total_questions_gahtered: 28262\n",
      "prossesed: 60000000 total_questions_gahtered: 28798\n",
      "prossesed: 61000000 total_questions_gahtered: 29296\n",
      "prossesed: 62000000 total_questions_gahtered: 29843\n",
      "prossesed: 63000000 total_questions_gahtered: 30349\n",
      "prossesed: 64000000 total_questions_gahtered: 30826\n",
      "prossesed: 65000000 total_questions_gahtered: 31344\n",
      "prossesed: 66000000 total_questions_gahtered: 31906\n",
      "prossesed: 67000000 total_questions_gahtered: 32470\n",
      "prossesed: 68000000 total_questions_gahtered: 33140\n",
      "prossesed: 69000000 total_questions_gahtered: 33852\n",
      "prossesed: 70000000 total_questions_gahtered: 34501\n",
      "prossesed: 71000000 total_questions_gahtered: 35139\n",
      "prossesed: 72000000 total_questions_gahtered: 35949\n",
      "prossesed: 73000000 total_questions_gahtered: 36725\n",
      "prossesed: 74000000 total_questions_gahtered: 37439\n",
      "prossesed: 75000000 total_questions_gahtered: 38161\n",
      "prossesed: 76000000 total_questions_gahtered: 38917\n",
      "prossesed: 77000000 total_questions_gahtered: 39708\n",
      "prossesed: 78000000 total_questions_gahtered: 40510\n",
      "prossesed: 79000000 total_questions_gahtered: 41407\n",
      "prossesed: 80000000 total_questions_gahtered: 42191\n",
      "prossesed: 81000000 total_questions_gahtered: 42973\n",
      "prossesed: 82000000 total_questions_gahtered: 43896\n",
      "prossesed: 83000000 total_questions_gahtered: 44628\n",
      "prossesed: 84000000 total_questions_gahtered: 45368\n",
      "prossesed: 85000000 total_questions_gahtered: 46243\n",
      "prossesed: 86000000 total_questions_gahtered: 46998\n",
      "prossesed: 87000000 total_questions_gahtered: 47798\n",
      "prossesed: 88000000 total_questions_gahtered: 48538\n",
      "prossesed: 89000000 total_questions_gahtered: 49375\n",
      "prossesed: 90000000 total_questions_gahtered: 50179\n",
      "prossesed: 91000000 total_questions_gahtered: 51022\n",
      "prossesed: 92000000 total_questions_gahtered: 51828\n",
      "prossesed: 93000000 total_questions_gahtered: 52722\n",
      "prossesed: 94000000 total_questions_gahtered: 53625\n",
      "prossesed: 95000000 total_questions_gahtered: 54481\n",
      "prossesed: 96000000 total_questions_gahtered: 55456\n",
      "prossesed: 97000000 total_questions_gahtered: 56416\n",
      "prossesed: 98000000 total_questions_gahtered: 57359\n",
      "prossesed: 99000000 total_questions_gahtered: 58265\n",
      "prossesed: 100000000 total_questions_gahtered: 59018\n",
      "End Processing\n"
     ]
    }
   ],
   "source": [
    "print(\"Start Processing\")\n",
    "postcount =0\n",
    "\n",
    "with open(OUTPUT4, 'w', newline='', encoding='utf-8') as csvfile:\n",
    "    csvwriter = csv.writer(csvfile)\n",
    "    csvwriter.writerow(COLS)\n",
    "    _, root = next(context)\n",
    "    for index, item in enumerate(context):\n",
    "        event, elem = item\n",
    "        if event == \"end\" and elem.tag == \"row\":\n",
    "            parentId = int(elem.attrib.get('ParentId', '0'))\n",
    "            \n",
    "            if parentId in questionIdDict:\n",
    "                postcount += 1\n",
    "                data = []\n",
    "                for col in COLS:\n",
    "                    data.append(elem.attrib.get(col, ''))\n",
    "                csvwriter.writerow(data)\n",
    "                continue\n",
    "            \n",
    "        \n",
    "            elem.clear()\n",
    "            root.clear()\n",
    "        # progress\n",
    "        if index % LOGAMOUNT == 0 and index != 0:\n",
    "            print('prossesed:', index, 'total_questions_gahtered:', postcount)\n",
    "                \n",
    "        if index > CUTTOFF:\n",
    "            break\n",
    "print(\"End Processing\")\n",
    " "
   ]
  },
  {
   "cell_type": "code",
   "execution_count": 11,
   "metadata": {
    "pycharm": {
     "name": "#%%\n"
    }
   },
   "outputs": [
    {
     "name": "stdout",
     "output_type": "stream",
     "text": [
      "      id qa                                                raw\n",
      "0   1496  a  <p><strong>MacVim</strong> works well and cert...\n",
      "1   2898  a  <p>Emacs is a wonderful text editor.  It has h...\n",
      "2  10475  a  <p><a href=\"http://en.wikipedia.org/wiki/Typin...\n",
      "3  12009  a  <p>Thanks to Mark I found the answer:</p>\\n\\n<...\n",
      "4  12492  a  <p>I use <a href=\"http://www.thaiopensource.co...\n",
      "Total posts 35123\n",
      "      id qa                                                raw\n",
      "0   1496  q  What are the preferred versions of Vim and Ema...\n",
      "1   2898  q  Text Editor For Linux (Besides Vi)? <p>Let me ...\n",
      "2  10475  q  Touch Typing Software recommendations <p>Since...\n",
      "3  12009  q  Piping password to smbpasswd <p>How can I pipe...\n",
      "4  12492  q  Pretty printing XML files on Emacs <p>I use em...\n",
      "Total posts: 35123\n"
     ]
    }
   ],
   "source": [
    "df = pd.read_csv(OUTPUT3, low_memory=False)\n",
    "\n",
    "answers_df = df.copy()\n",
    "answers_df = answers_df[['Id', 'AcceptedAnswer']]\n",
    "answers_df = answers_df.dropna()\n",
    "answers_df.columns = ['id', 'raw']\n",
    "answers_df.insert(1, 'qa', 'a')\n",
    "answers_df.id = answers_df.id.apply(np.int64)\n",
    "print(answers_df.head())\n",
    "print('Total posts', len(answers_df))\n",
    "\n",
    "questions_df = df.copy()\n",
    "questions_df = questions_df[['Id', 'Body', 'Title']]\n",
    "questions_df['titlePlusQuestion'] = questions_df[['Title', 'Body']].apply(lambda x: ' '.join(x), axis=1)\n",
    "questions_df = questions_df.drop(['Title', 'Body'], axis=1)\n",
    "questions_df.columns = ['id', 'raw']\n",
    "questions_df.insert(1, 'qa', 'q')\n",
    "print(questions_df.head())\n",
    "print('Total posts:',len(questions_df))\n",
    "\n",
    "# df = pd.concat([questions_df,answers_df])\n",
    "# questions_df.head(5).to_html('output/q.html')\n",
    "# answers_df.head(5).to_html('output/a.html')\n",
    "# print(len(df))\n",
    "# df.to_csv(PROCESSEDFINAL, index=False)"
   ]
  }
 ],
 "metadata": {
  "kernelspec": {
   "display_name": "Python 3",
   "language": "python",
   "name": "python3"
  },
  "language_info": {
   "codemirror_mode": {
    "name": "ipython",
    "version": 3
   },
   "file_extension": ".py",
   "mimetype": "text/x-python",
   "name": "python",
   "nbconvert_exporter": "python",
   "pygments_lexer": "ipython3",
   "version": "3.7.6"
  }
 },
 "nbformat": 4,
 "nbformat_minor": 4
}