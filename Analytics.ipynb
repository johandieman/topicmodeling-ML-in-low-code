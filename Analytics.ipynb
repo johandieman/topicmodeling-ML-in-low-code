{
 "cells": [
  {
   "cell_type": "code",
   "execution_count": 2,
   "metadata": {},
   "outputs": [],
   "source": [
    "import pandas as pd\n",
    "import matplotlib.pyplot as plt\n",
    "from matplotlib.dates import DateFormatter\n",
    "import numpy as np\n",
    "\n",
    "import csv\n",
    "%matplotlib inline\n"
   ]
  },
  {
   "cell_type": "code",
   "execution_count": 4,
   "metadata": {},
   "outputs": [],
   "source": [
    "#common variables\n",
    "\n",
    "PROCCESSEDDATA = 'output/output_3.csv'\n"
   ]
  },
  {
   "cell_type": "code",
   "execution_count": 5,
   "metadata": {},
   "outputs": [],
   "source": [
    "TAGS = ['google-app-maker', 'appian', 'outsystems', 'zoho', 'mendix',\n",
    "        'powerapps', 'quickbase', 'vinyl', 'salesforce-lightning', 'github-copilot','Knack','Airtable']\n",
    "\n",
    "#machine learning\n",
    "TAGS += ['machine-learning','classification','nlp','anomaly-detection','machine-translation','']\n",
    "\n",
    "#low-code\n",
    "TAGS += ['editor','wysiwyg','automation', 'ui-automation','']\n",
    "\n",
    "PLATFORMS = {\n",
    "    'Salesforce' : ['salesforce-lightning', 'lwc', 'lightning', 'salesforce-communities',\n",
    "        'salesforce-chatter', 'salesforce-service-cloud', 'aura-framework'],\n",
    "    'Appian' : ['appian'],\n",
    "    'Outsystems' : ['outsystems'],\n",
    "    'AppMaker' : ['google-app-maker'],\n",
    "    'Zoho' : ['zoho'],\n",
    "    'Mendix' : ['mendix'],\n",
    "    'PowerApps' : ['powerapps', 'powerapps-formula',\n",
    "        'powerapps-selected-items', 'powerapps-collection', 'powerapps-canvas'],\n",
    "    'QuickBase' : ['quickbase'],\n",
    "    'Vinyl' : ['vinyl']\n",
    "}\n"
   ]
  },
  {
   "cell_type": "code",
   "execution_count": 6,
   "metadata": {},
   "outputs": [
    {
     "name": "stderr",
     "output_type": "stream",
     "text": [
      "C:\\Users\\user\\anaconda3\\lib\\site-packages\\IPython\\core\\interactiveshell.py:3331: DtypeWarning: Columns (17) have mixed types.Specify dtype option on import or set low_memory=False.\n",
      "  exec(code_obj, self.user_global_ns, self.user_ns)\n"
     ]
    }
   ],
   "source": [
    "so_df = pd.read_csv(PROCCESSEDDATA)\n",
    "so_df.CreationDate = so_df.CreationDate.apply(pd.to_datetime)\n",
    "so_df.AcceptedAnswerCreationDate = so_df.AcceptedAnswerCreationDate.apply(pd.to_datetime)"
   ]
  },
  {
   "cell_type": "code",
   "execution_count": 7,
   "metadata": {},
   "outputs": [
    {
     "name": "stdout",
     "output_type": "stream",
     "text": [
      "2008-08-04 18:51:38.543000\n"
     ]
    },
    {
     "data": {
      "text/plain": "         Id  PostTypeId  AcceptedAnswerId  ParentId            CreationDate  \\\n0      1496           1            1517.0       NaN 2008-08-04 18:51:38.543   \n1      2898           1            2905.0       NaN 2008-08-05 21:42:37.763   \n2     10475           1           10479.0       NaN 2008-08-13 23:29:38.707   \n416   10564           1          773973.0       NaN 2008-08-14 01:43:04.270   \n2192  11462           1         4500707.0       NaN 2008-08-14 18:30:01.160   \n\n      DeletionDate  Score  ViewCount  \\\n0              NaN     34       9592   \n1              NaN     51     129039   \n2              NaN     26       7864   \n416            NaN    595     353209   \n2192           NaN     21      19961   \n\n                                                   Body  \\\n0     <p>For those of us that like to use the graphi...   \n1     <p>Let me preface this question by saying I us...   \n2     <p>Since the keyboard is <strong>the</strong> ...   \n416   <p>I'm trying out <strong>Git on Windows</stro...   \n2192  <p>Ok, I've seen a few posts that <em>mention<...   \n\n                 LastEditDate  ...  \\\n0     2019-07-24T14:44:27.110  ...   \n1     2012-07-28T00:24:43.417  ...   \n2     2008-09-11T02:13:53.970  ...   \n416   2016-12-24T17:26:04.737  ...   \n2192  2014-12-09T14:01:56.880  ...   \n\n                                                  Title  \\\n0     What are the preferred versions of Vim and Ema...   \n1                   Text Editor For Linux (Besides Vi)?   \n2                 Touch Typing Software recommendations   \n416   How can I set up an editor to work with Git on...   \n2192                                   Sharepoint Wikis   \n\n                                           Tags AnswerCount  CommentCount  \\\n0                   <macos><vim><emacs><editor>          13             0   \n1                               <linux><editor>          34             2   \n2                        <editor><touch-typing>          14             1   \n416              <windows><git><cygwin><editor>          35             7   \n2192  <sharepoint><automation><sharepoint-wiki>          17             0   \n\n      FavoriteCount               ClosedDate       CommunityOwnedDate  \\\n0               6.0  2012-08-03T16:38:59.173                      NaN   \n1              19.0  2014-05-28T07:41:58.517  2009-05-03T11:37:34.303   \n2              25.0  2012-03-01T06:12:03.993                      NaN   \n416           288.0                      NaN                      NaN   \n2192            6.0                      NaN                      NaN   \n\n     ContentLicense                                     AcceptedAnswer  \\\n0      CC BY-SA 4.0  <p><strong>MacVim</strong> works well and cert...   \n1      CC BY-SA 2.5  <p>Emacs is a wonderful text editor.  It has h...   \n2      CC BY-SA 2.5  <p><a href=\"http://en.wikipedia.org/wiki/Typin...   \n416    CC BY-SA 2.5  <p>Update September 2015 (6 years later)</p>\\n...   \n2192   CC BY-SA 3.0  <p>Before the rant, here is my overall experie...   \n\n     AcceptedAnswerCreationDate  \n0       2008-08-04 19:11:02.140  \n1       2008-08-05 21:49:12.180  \n2       2008-08-13 23:32:27.560  \n416     2009-04-21 18:34:54.007  \n2192    2010-12-21 15:13:23.837  \n\n[5 rows x 21 columns]",
      "text/html": "<div>\n<style scoped>\n    .dataframe tbody tr th:only-of-type {\n        vertical-align: middle;\n    }\n\n    .dataframe tbody tr th {\n        vertical-align: top;\n    }\n\n    .dataframe thead th {\n        text-align: right;\n    }\n</style>\n<table border=\"1\" class=\"dataframe\">\n  <thead>\n    <tr style=\"text-align: right;\">\n      <th></th>\n      <th>Id</th>\n      <th>PostTypeId</th>\n      <th>AcceptedAnswerId</th>\n      <th>ParentId</th>\n      <th>CreationDate</th>\n      <th>DeletionDate</th>\n      <th>Score</th>\n      <th>ViewCount</th>\n      <th>Body</th>\n      <th>LastEditDate</th>\n      <th>...</th>\n      <th>Title</th>\n      <th>Tags</th>\n      <th>AnswerCount</th>\n      <th>CommentCount</th>\n      <th>FavoriteCount</th>\n      <th>ClosedDate</th>\n      <th>CommunityOwnedDate</th>\n      <th>ContentLicense</th>\n      <th>AcceptedAnswer</th>\n      <th>AcceptedAnswerCreationDate</th>\n    </tr>\n  </thead>\n  <tbody>\n    <tr>\n      <th>0</th>\n      <td>1496</td>\n      <td>1</td>\n      <td>1517.0</td>\n      <td>NaN</td>\n      <td>2008-08-04 18:51:38.543</td>\n      <td>NaN</td>\n      <td>34</td>\n      <td>9592</td>\n      <td>&lt;p&gt;For those of us that like to use the graphi...</td>\n      <td>2019-07-24T14:44:27.110</td>\n      <td>...</td>\n      <td>What are the preferred versions of Vim and Ema...</td>\n      <td>&lt;macos&gt;&lt;vim&gt;&lt;emacs&gt;&lt;editor&gt;</td>\n      <td>13</td>\n      <td>0</td>\n      <td>6.0</td>\n      <td>2012-08-03T16:38:59.173</td>\n      <td>NaN</td>\n      <td>CC BY-SA 4.0</td>\n      <td>&lt;p&gt;&lt;strong&gt;MacVim&lt;/strong&gt; works well and cert...</td>\n      <td>2008-08-04 19:11:02.140</td>\n    </tr>\n    <tr>\n      <th>1</th>\n      <td>2898</td>\n      <td>1</td>\n      <td>2905.0</td>\n      <td>NaN</td>\n      <td>2008-08-05 21:42:37.763</td>\n      <td>NaN</td>\n      <td>51</td>\n      <td>129039</td>\n      <td>&lt;p&gt;Let me preface this question by saying I us...</td>\n      <td>2012-07-28T00:24:43.417</td>\n      <td>...</td>\n      <td>Text Editor For Linux (Besides Vi)?</td>\n      <td>&lt;linux&gt;&lt;editor&gt;</td>\n      <td>34</td>\n      <td>2</td>\n      <td>19.0</td>\n      <td>2014-05-28T07:41:58.517</td>\n      <td>2009-05-03T11:37:34.303</td>\n      <td>CC BY-SA 2.5</td>\n      <td>&lt;p&gt;Emacs is a wonderful text editor.  It has h...</td>\n      <td>2008-08-05 21:49:12.180</td>\n    </tr>\n    <tr>\n      <th>2</th>\n      <td>10475</td>\n      <td>1</td>\n      <td>10479.0</td>\n      <td>NaN</td>\n      <td>2008-08-13 23:29:38.707</td>\n      <td>NaN</td>\n      <td>26</td>\n      <td>7864</td>\n      <td>&lt;p&gt;Since the keyboard is &lt;strong&gt;the&lt;/strong&gt; ...</td>\n      <td>2008-09-11T02:13:53.970</td>\n      <td>...</td>\n      <td>Touch Typing Software recommendations</td>\n      <td>&lt;editor&gt;&lt;touch-typing&gt;</td>\n      <td>14</td>\n      <td>1</td>\n      <td>25.0</td>\n      <td>2012-03-01T06:12:03.993</td>\n      <td>NaN</td>\n      <td>CC BY-SA 2.5</td>\n      <td>&lt;p&gt;&lt;a href=\"http://en.wikipedia.org/wiki/Typin...</td>\n      <td>2008-08-13 23:32:27.560</td>\n    </tr>\n    <tr>\n      <th>416</th>\n      <td>10564</td>\n      <td>1</td>\n      <td>773973.0</td>\n      <td>NaN</td>\n      <td>2008-08-14 01:43:04.270</td>\n      <td>NaN</td>\n      <td>595</td>\n      <td>353209</td>\n      <td>&lt;p&gt;I'm trying out &lt;strong&gt;Git on Windows&lt;/stro...</td>\n      <td>2016-12-24T17:26:04.737</td>\n      <td>...</td>\n      <td>How can I set up an editor to work with Git on...</td>\n      <td>&lt;windows&gt;&lt;git&gt;&lt;cygwin&gt;&lt;editor&gt;</td>\n      <td>35</td>\n      <td>7</td>\n      <td>288.0</td>\n      <td>NaN</td>\n      <td>NaN</td>\n      <td>CC BY-SA 2.5</td>\n      <td>&lt;p&gt;Update September 2015 (6 years later)&lt;/p&gt;\\n...</td>\n      <td>2009-04-21 18:34:54.007</td>\n    </tr>\n    <tr>\n      <th>2192</th>\n      <td>11462</td>\n      <td>1</td>\n      <td>4500707.0</td>\n      <td>NaN</td>\n      <td>2008-08-14 18:30:01.160</td>\n      <td>NaN</td>\n      <td>21</td>\n      <td>19961</td>\n      <td>&lt;p&gt;Ok, I've seen a few posts that &lt;em&gt;mention&lt;...</td>\n      <td>2014-12-09T14:01:56.880</td>\n      <td>...</td>\n      <td>Sharepoint Wikis</td>\n      <td>&lt;sharepoint&gt;&lt;automation&gt;&lt;sharepoint-wiki&gt;</td>\n      <td>17</td>\n      <td>0</td>\n      <td>6.0</td>\n      <td>NaN</td>\n      <td>NaN</td>\n      <td>CC BY-SA 3.0</td>\n      <td>&lt;p&gt;Before the rant, here is my overall experie...</td>\n      <td>2010-12-21 15:13:23.837</td>\n    </tr>\n  </tbody>\n</table>\n<p>5 rows × 21 columns</p>\n</div>"
     },
     "execution_count": 7,
     "metadata": {},
     "output_type": "execute_result"
    }
   ],
   "source": [
    "print(so_df.sort_values(by='CreationDate').iloc[0].CreationDate)\n",
    "so_df.sort_values(by='CreationDate').head(5)"
   ]
  },
  {
   "cell_type": "markdown",
   "metadata": {},
   "source": [
    "# Stats per tag"
   ]
  },
  {
   "cell_type": "code",
   "execution_count": 8,
   "metadata": {},
   "outputs": [
    {
     "name": "stdout",
     "output_type": "stream",
     "text": [
      "37229\n"
     ]
    },
    {
     "data": {
      "text/plain": "                Tag_Name  Num_of_Questions  Avg_View_Count  Avg_Fav_Count\n0       google-app-maker               451      452.991131       1.052632\n1                 appian                 6      215.166667       3.000000\n2             outsystems                78     1461.666667       1.200000\n3                   zoho               157     1764.044586       1.700000\n4                 mendix                16     1812.187500       1.500000\n5              powerapps               267     1793.127341       0.911765\n6              quickbase                33      630.969697       1.000000\n7                  vinyl                17      384.823529       1.000000\n8   salesforce-lightning               144     1675.409722       0.913043\n12      machine-learning             16535     3211.512549       4.161964\n13        classification              2409     3178.403902       4.199591\n14                   nlp              5817     2583.613718       4.009005\n15     anomaly-detection                63     1714.000000       1.550000\n16   machine-translation                93     2060.419355       2.131579\n18                editor              2794    10565.897280      10.860877\n19               wysiwyg              1081     3564.539315       3.378713\n20            automation              6317     3740.837581       2.845577\n21         ui-automation               951     2682.965300       2.198391",
      "text/html": "<div>\n<style scoped>\n    .dataframe tbody tr th:only-of-type {\n        vertical-align: middle;\n    }\n\n    .dataframe tbody tr th {\n        vertical-align: top;\n    }\n\n    .dataframe thead th {\n        text-align: right;\n    }\n</style>\n<table border=\"1\" class=\"dataframe\">\n  <thead>\n    <tr style=\"text-align: right;\">\n      <th></th>\n      <th>Tag_Name</th>\n      <th>Num_of_Questions</th>\n      <th>Avg_View_Count</th>\n      <th>Avg_Fav_Count</th>\n    </tr>\n  </thead>\n  <tbody>\n    <tr>\n      <th>0</th>\n      <td>google-app-maker</td>\n      <td>451</td>\n      <td>452.991131</td>\n      <td>1.052632</td>\n    </tr>\n    <tr>\n      <th>1</th>\n      <td>appian</td>\n      <td>6</td>\n      <td>215.166667</td>\n      <td>3.000000</td>\n    </tr>\n    <tr>\n      <th>2</th>\n      <td>outsystems</td>\n      <td>78</td>\n      <td>1461.666667</td>\n      <td>1.200000</td>\n    </tr>\n    <tr>\n      <th>3</th>\n      <td>zoho</td>\n      <td>157</td>\n      <td>1764.044586</td>\n      <td>1.700000</td>\n    </tr>\n    <tr>\n      <th>4</th>\n      <td>mendix</td>\n      <td>16</td>\n      <td>1812.187500</td>\n      <td>1.500000</td>\n    </tr>\n    <tr>\n      <th>5</th>\n      <td>powerapps</td>\n      <td>267</td>\n      <td>1793.127341</td>\n      <td>0.911765</td>\n    </tr>\n    <tr>\n      <th>6</th>\n      <td>quickbase</td>\n      <td>33</td>\n      <td>630.969697</td>\n      <td>1.000000</td>\n    </tr>\n    <tr>\n      <th>7</th>\n      <td>vinyl</td>\n      <td>17</td>\n      <td>384.823529</td>\n      <td>1.000000</td>\n    </tr>\n    <tr>\n      <th>8</th>\n      <td>salesforce-lightning</td>\n      <td>144</td>\n      <td>1675.409722</td>\n      <td>0.913043</td>\n    </tr>\n    <tr>\n      <th>12</th>\n      <td>machine-learning</td>\n      <td>16535</td>\n      <td>3211.512549</td>\n      <td>4.161964</td>\n    </tr>\n    <tr>\n      <th>13</th>\n      <td>classification</td>\n      <td>2409</td>\n      <td>3178.403902</td>\n      <td>4.199591</td>\n    </tr>\n    <tr>\n      <th>14</th>\n      <td>nlp</td>\n      <td>5817</td>\n      <td>2583.613718</td>\n      <td>4.009005</td>\n    </tr>\n    <tr>\n      <th>15</th>\n      <td>anomaly-detection</td>\n      <td>63</td>\n      <td>1714.000000</td>\n      <td>1.550000</td>\n    </tr>\n    <tr>\n      <th>16</th>\n      <td>machine-translation</td>\n      <td>93</td>\n      <td>2060.419355</td>\n      <td>2.131579</td>\n    </tr>\n    <tr>\n      <th>18</th>\n      <td>editor</td>\n      <td>2794</td>\n      <td>10565.897280</td>\n      <td>10.860877</td>\n    </tr>\n    <tr>\n      <th>19</th>\n      <td>wysiwyg</td>\n      <td>1081</td>\n      <td>3564.539315</td>\n      <td>3.378713</td>\n    </tr>\n    <tr>\n      <th>20</th>\n      <td>automation</td>\n      <td>6317</td>\n      <td>3740.837581</td>\n      <td>2.845577</td>\n    </tr>\n    <tr>\n      <th>21</th>\n      <td>ui-automation</td>\n      <td>951</td>\n      <td>2682.965300</td>\n      <td>2.198391</td>\n    </tr>\n  </tbody>\n</table>\n</div>"
     },
     "execution_count": 8,
     "metadata": {},
     "output_type": "execute_result"
    }
   ],
   "source": [
    "sum = 0\n",
    "no_of_questions = []\n",
    "avg_view_count = []\n",
    "avg_fav_count = []\n",
    "for tag in TAGS:\n",
    "    indicesToRemove = []\n",
    "    for i in range(len(so_df)):\n",
    "        qtags = so_df.iloc[i]['Tags'][1:-1].replace('><', ' ').split()\n",
    "        f = True\n",
    "        for qtag in qtags:\n",
    "            if qtag == tag:\n",
    "                f = False\n",
    "                break\n",
    "        if f:\n",
    "            indicesToRemove.append(i)\n",
    "    temp_df = so_df.drop(index=indicesToRemove)\n",
    "    no_of_questions.append(len(temp_df))\n",
    "    avg_view_count.append(temp_df.ViewCount.mean())\n",
    "    avg_fav_count.append(temp_df.FavoriteCount.mean())\n",
    "    sum += len(temp_df)\n",
    "print(sum)\n",
    "df = pd.DataFrame()\n",
    "df['Tag_Name'] = TAGS\n",
    "df['Num_of_Questions'] = no_of_questions\n",
    "df['Avg_View_Count'] = avg_view_count\n",
    "df['Avg_Fav_Count'] = avg_fav_count\n",
    "\n",
    "df = df.dropna()\n",
    "df"
   ]
  },
  {
   "cell_type": "markdown",
   "metadata": {},
   "source": [
    "# Stats per platform"
   ]
  },
  {
   "cell_type": "code",
   "execution_count": 9,
   "metadata": {},
   "outputs": [
    {
     "name": "stdout",
     "output_type": "stream",
     "text": [
      "1169\n"
     ]
    },
    {
     "data": {
      "text/plain": "     Platform  Num_of_Questions  Num_of_Accepted_Answers  Avg_View_Count  \\\n0  Salesforce               144                      144     1675.409722   \n1      Appian                 6                        6      215.166667   \n2  Outsystems                78                       78     1461.666667   \n3    AppMaker               451                      451      452.991131   \n4        Zoho               157                      157     1764.044586   \n5      Mendix                16                       16     1812.187500   \n6   PowerApps               267                      267     1793.127341   \n7   QuickBase                33                       33      630.969697   \n8       Vinyl                17                       17      384.823529   \n\n   Avg_Fav_Count  Avg_Score  \n0       0.913043   0.680556  \n1       3.000000   1.000000  \n2       1.200000   1.012821  \n3       1.052632   0.558758  \n4       1.700000   1.522293  \n5       1.500000   1.625000  \n6       0.911765   0.838951  \n7       1.000000   0.424242  \n8       1.000000   3.235294  ",
      "text/html": "<div>\n<style scoped>\n    .dataframe tbody tr th:only-of-type {\n        vertical-align: middle;\n    }\n\n    .dataframe tbody tr th {\n        vertical-align: top;\n    }\n\n    .dataframe thead th {\n        text-align: right;\n    }\n</style>\n<table border=\"1\" class=\"dataframe\">\n  <thead>\n    <tr style=\"text-align: right;\">\n      <th></th>\n      <th>Platform</th>\n      <th>Num_of_Questions</th>\n      <th>Num_of_Accepted_Answers</th>\n      <th>Avg_View_Count</th>\n      <th>Avg_Fav_Count</th>\n      <th>Avg_Score</th>\n    </tr>\n  </thead>\n  <tbody>\n    <tr>\n      <th>0</th>\n      <td>Salesforce</td>\n      <td>144</td>\n      <td>144</td>\n      <td>1675.409722</td>\n      <td>0.913043</td>\n      <td>0.680556</td>\n    </tr>\n    <tr>\n      <th>1</th>\n      <td>Appian</td>\n      <td>6</td>\n      <td>6</td>\n      <td>215.166667</td>\n      <td>3.000000</td>\n      <td>1.000000</td>\n    </tr>\n    <tr>\n      <th>2</th>\n      <td>Outsystems</td>\n      <td>78</td>\n      <td>78</td>\n      <td>1461.666667</td>\n      <td>1.200000</td>\n      <td>1.012821</td>\n    </tr>\n    <tr>\n      <th>3</th>\n      <td>AppMaker</td>\n      <td>451</td>\n      <td>451</td>\n      <td>452.991131</td>\n      <td>1.052632</td>\n      <td>0.558758</td>\n    </tr>\n    <tr>\n      <th>4</th>\n      <td>Zoho</td>\n      <td>157</td>\n      <td>157</td>\n      <td>1764.044586</td>\n      <td>1.700000</td>\n      <td>1.522293</td>\n    </tr>\n    <tr>\n      <th>5</th>\n      <td>Mendix</td>\n      <td>16</td>\n      <td>16</td>\n      <td>1812.187500</td>\n      <td>1.500000</td>\n      <td>1.625000</td>\n    </tr>\n    <tr>\n      <th>6</th>\n      <td>PowerApps</td>\n      <td>267</td>\n      <td>267</td>\n      <td>1793.127341</td>\n      <td>0.911765</td>\n      <td>0.838951</td>\n    </tr>\n    <tr>\n      <th>7</th>\n      <td>QuickBase</td>\n      <td>33</td>\n      <td>33</td>\n      <td>630.969697</td>\n      <td>1.000000</td>\n      <td>0.424242</td>\n    </tr>\n    <tr>\n      <th>8</th>\n      <td>Vinyl</td>\n      <td>17</td>\n      <td>17</td>\n      <td>384.823529</td>\n      <td>1.000000</td>\n      <td>3.235294</td>\n    </tr>\n  </tbody>\n</table>\n</div>"
     },
     "execution_count": 9,
     "metadata": {},
     "output_type": "execute_result"
    }
   ],
   "source": [
    "sum = 0\n",
    "no_of_questions = []\n",
    "no_of_accepted_answers = []\n",
    "avg_view_count = []\n",
    "avg_fav_count = []\n",
    "avg_score = []\n",
    "for platform in PLATFORMS:\n",
    "    indicesToRemove = []\n",
    "    for i in range(len(so_df)):\n",
    "        qtags = so_df.iloc[i]['Tags'][1:-1].replace('><', ' ').split()\n",
    "        f = True\n",
    "        for qtag in qtags:\n",
    "            for ptag in PLATFORMS[platform]:\n",
    "                if qtag == ptag:\n",
    "                    f = False\n",
    "                    break\n",
    "        if f:\n",
    "            indicesToRemove.append(i)\n",
    "    temp_df = so_df.drop(index=indicesToRemove)\n",
    "    no_of_questions.append(len(temp_df))\n",
    "    no_of_accepted_answers.append(temp_df.AcceptedAnswer.count())\n",
    "    avg_view_count.append(temp_df.ViewCount.mean())\n",
    "    avg_fav_count.append(temp_df.FavoriteCount.mean())\n",
    "    avg_score.append(temp_df.Score.mean())\n",
    "    sum += len(temp_df)\n",
    "print(sum)\n",
    "df = pd.DataFrame()\n",
    "df['Platform'] = PLATFORMS.keys()\n",
    "df['Num_of_Questions'] = no_of_questions\n",
    "df['Num_of_Accepted_Answers'] = no_of_accepted_answers\n",
    "df['Avg_View_Count'] = avg_view_count\n",
    "df['Avg_Fav_Count'] = avg_fav_count\n",
    "df['Avg_Score'] = avg_score\n",
    "\n",
    "df"
   ]
  },
  {
   "cell_type": "markdown",
   "metadata": {},
   "source": [
    "# Topic modeling related figures"
   ]
  },
  {
   "cell_type": "code",
   "execution_count": 10,
   "outputs": [],
   "source": [
    "TOPIC_ID_LOW_CATEGORY = {\n",
    "    0 : 'Action Classification',\n",
    "    1 : 'Logic Construction',\n",
    "    2 : 'Deployment',\n",
    "    3 : 'Context Creation',\n",
    "    4 :\t'User Experience',\n",
    "    5 : 'User Interfacing',\n",
    "    6 :\t'Resource Management',\n",
    "    7 : 'Automation',\n",
    "    8 : 'Database',\n",
    "    9 : 'Workflow',\n",
    "    10 : 'Integration'\n",
    "}\n",
    "\n",
    "HIGHER_CAT_TO_TOPIC_ID = {\n",
    "    'Database' : [8,3,1],\n",
    "    'Automation' : [9,0,7,2],\n",
    "    'Integration' : [10,4,6, 5]\n",
    "}"
   ],
   "metadata": {
    "collapsed": false,
    "pycharm": {
     "name": "#%%\n"
    }
   }
  },
  {
   "cell_type": "code",
   "execution_count": 11,
   "metadata": {
    "tags": []
   },
   "outputs": [
    {
     "name": "stdout",
     "output_type": "stream",
     "text": [
      "              Total\n",
      "CreationDate       \n",
      "2008-08-01      166\n",
      "2008-11-01      141\n",
      "2009-02-01      153\n",
      "2009-05-01      220\n",
      "2009-08-01      222\n",
      "Category: Database total question: 3566\n",
      "Category: Automation total question: 10740\n",
      "Category: Integration total question: 20817\n",
      "              Total  Database  Automation  Integration\n",
      "CreationDate                                          \n",
      "2013-05-01      539        45         149          345\n",
      "2013-08-01      529        62         166          301\n",
      "2013-11-01      596        59         198          339\n",
      "2014-02-01      612        56         236          320\n",
      "2014-05-01      557        68         170          319\n"
     ]
    }
   ],
   "source": [
    "SAMPLING = '3MS'\n",
    "DUMMY_DATE = pd.to_datetime('2008-11-27 18:18:37.777')\n",
    "\n",
    "final_df = so_df.resample(SAMPLING, on='CreationDate').count()[['Id']].astype(int)\n",
    "final_df.columns = ['Total']\n",
    "\n",
    "print(final_df.head())\n",
    "NUM_TOPICS = 11\n",
    "\n",
    "for category in HIGHER_CAT_TO_TOPIC_ID:\n",
    "    idsToRetain = []\n",
    "    for topic_id in HIGHER_CAT_TO_TOPIC_ID[category]:\n",
    "        temp_df = pd.read_csv(f'./output/Topic Modeling Results/{NUM_TOPICS} Topics/TopicToPost/{topic_id}/Questions.csv')\n",
    "        idsToRetain.extend(temp_df.link.tolist())\n",
    "\n",
    "    temp_df = so_df[so_df['Id'].isin(idsToRetain)]\n",
    "    total_question = len(temp_df)\n",
    "\n",
    "    temp_df = temp_df.append(pd.Series(data=[DUMMY_DATE], index = ['CreationDate']), ignore_index=True)\n",
    "\n",
    "    temp_df = temp_df.resample(SAMPLING, on = 'CreationDate').count()[['Id']]\n",
    "\n",
    "    temp_df.columns = [category]\n",
    "\n",
    "    final_df = pd.merge(final_df,temp_df, how='left', on='CreationDate', validate='one_to_one')\n",
    "\n",
    "    print(\"Category: \" + category + \" total question: \" + str(total_question))\n",
    "\n",
    "final_df.fillna(0, inplace=True)\n",
    "final_df = final_df.astype('int64')\n",
    "\n",
    "# integrity check\n",
    "for i in range(len(final_df)):\n",
    "    sum = 0\n",
    "    for category in HIGHER_CAT_TO_TOPIC_ID:\n",
    "        sum += final_df.iloc[i][category]\n",
    "    if(final_df.iloc[i].Total != sum):\n",
    "        print('Failed')\n",
    "\n",
    "final_df = final_df[-30:]\n",
    "print(final_df.head())"
   ]
  },
  {
   "cell_type": "code",
   "execution_count": 12,
   "metadata": {
    "pycharm": {
     "name": "#%%\n"
    }
   },
   "outputs": [
    {
     "name": "stderr",
     "output_type": "stream",
     "text": [
      "C:\\Users\\user\\anaconda3\\lib\\site-packages\\ipykernel_launcher.py:4: MatplotlibDeprecationWarning: Adding an axes using the same arguments as a previous axes currently reuses the earlier instance.  In a future version, a new instance will always be created and returned.  Meanwhile, this warning can be suppressed, and the future behavior ensured, by passing a unique label to each axes instance.\n",
      "  after removing the cwd from sys.path.\n"
     ]
    },
    {
     "name": "stdout",
     "output_type": "stream",
     "text": [
      "DatetimeIndex(['2013-05-01', '2013-08-01', '2013-11-01', '2014-02-01',\n",
      "               '2014-05-01', '2014-08-01', '2014-11-01', '2015-02-01',\n",
      "               '2015-05-01', '2015-08-01', '2015-11-01', '2016-02-01',\n",
      "               '2016-05-01', '2016-08-01', '2016-11-01', '2017-02-01',\n",
      "               '2017-05-01', '2017-08-01', '2017-11-01', '2018-02-01',\n",
      "               '2018-05-01', '2018-08-01', '2018-11-01', '2019-02-01',\n",
      "               '2019-05-01', '2019-08-01', '2019-11-01', '2020-02-01',\n",
      "               '2020-05-01', '2020-08-01'],\n",
      "              dtype='datetime64[ns]', name='CreationDate', freq=None)\n",
      "<class 'module'>\n",
      "<class 'pandas._libs.tslibs.timestamps.Timestamp'>\n"
     ]
    },
    {
     "data": {
      "text/plain": "<Figure size 720x432 with 1 Axes>",
      "image/png": "[encoded data removed]"
     },
     "metadata": {
      "needs_background": "light"
     },
     "output_type": "display_data"
    }
   ],
   "source": [
    "font_size = 13\n",
    "ax = final_df.drop(columns='Total').plot(figsize=(10,6), fontsize=font_size)\n",
    "# plt.xlabel('Year')\n",
    "ax1 = plt.axes()\n",
    "ax1.xaxis.label.set_visible(False)\n",
    "\n",
    "plt.ylabel('# of Questions', weight='bold', size=font_size)\n",
    "print(final_df.index)\n",
    "print(type(plt))\n",
    "print(type(final_df.index[0]))\n",
    "\n",
    "\n",
    "# ax.set_xticklabels(['xyz 2009','xyz 2011','xyz 2013','xyz 2015','xyz 2017','xyz 2019', 'Jan 2021'], rotation=0)\n",
    "labels = [x.strftime(\"%b, %Y\") for x in final_df.index]\n",
    "ax.set_xticks(labels)\n",
    "ax.set_xticklabels(labels, rotation=90, weight = 'bold')\n",
    "ax.spines['top'].set_visible(False)\n",
    "ax.spines['right'].set_visible(False)\n",
    "\n",
    "# ax.legend(fontsize='x-large')\n",
    "ax.legend(fontsize=font_size + 2)\n",
    "\n",
    "# plt.grid()\n",
    "# plt.savefig('Question_per_higher_category_2.png', dpi=1000, bbox_inches = \"tight\")\n",
    "plt.savefig('output/Question_per_higher_category_3M.pdf', dpi=1000, bbox_inches = \"tight\")\n",
    "# plt.savefig('Question_per_higher_category.eps', format='eps', dpi=1000, bbox_inches = \"tight\")\n",
    "\n",
    "plt.show()\n"
   ]
  },
  {
   "cell_type": "code",
   "execution_count": 13,
   "outputs": [
    {
     "data": {
      "text/plain": "    Topic_ID             Topic_Name  Number_of_Posts(Q+A)  \\\n0          0  Action Classification                  3728   \n1          1         Logic Creation                  2128   \n2          2             Deployment                  3053   \n3          3       Context Creation                  2518   \n4          4        User Experience                  8124   \n5          5       User Interfacing                 14951   \n6          6    Resource Management                 15791   \n7          7             Automation                  5110   \n8          8               Database                  2863   \n9          9               Workflow                  9769   \n10        10            Integration                  2211   \n\n    Percentage_of_Posts  Averege_View  AVerege_Favorite  Averege_Score  \\\n0                  5.31       4443.55              4.24           4.65   \n1                  3.03       3676.13              4.99           5.58   \n2                  4.35       3754.96              4.46           4.71   \n3                  3.58       3542.09              3.74           3.72   \n4                 11.57       3925.36              4.60           3.97   \n5                 21.28       3216.28              4.01           3.73   \n6                 22.48       4407.25              4.46           4.30   \n7                  7.27       3287.88              4.27           3.52   \n8                  4.08       5817.47              5.76           6.34   \n9                 13.91       2730.59              4.05           3.91   \n10                 3.15       3166.00              3.32           3.24   \n\n    Median_Hours_To_Get_Accepted_Answer  \n0                                  2.58  \n1                                  4.09  \n2                                  2.52  \n3                                  2.79  \n4                                  2.17  \n5                                  2.66  \n6                                  4.58  \n7                                  3.64  \n8                                  1.37  \n9                                  3.77  \n10                                 2.47  ",
      "text/html": "<div>\n<style scoped>\n    .dataframe tbody tr th:only-of-type {\n        vertical-align: middle;\n    }\n\n    .dataframe tbody tr th {\n        vertical-align: top;\n    }\n\n    .dataframe thead th {\n        text-align: right;\n    }\n</style>\n<table border=\"1\" class=\"dataframe\">\n  <thead>\n    <tr style=\"text-align: right;\">\n      <th></th>\n      <th>Topic_ID</th>\n      <th>Topic_Name</th>\n      <th>Number_of_Posts(Q+A)</th>\n      <th>Percentage_of_Posts</th>\n      <th>Averege_View</th>\n      <th>AVerege_Favorite</th>\n      <th>Averege_Score</th>\n      <th>Median_Hours_To_Get_Accepted_Answer</th>\n    </tr>\n  </thead>\n  <tbody>\n    <tr>\n      <th>0</th>\n      <td>0</td>\n      <td>Action Classification</td>\n      <td>3728</td>\n      <td>5.31</td>\n      <td>4443.55</td>\n      <td>4.24</td>\n      <td>4.65</td>\n      <td>2.58</td>\n    </tr>\n    <tr>\n      <th>1</th>\n      <td>1</td>\n      <td>Logic Creation</td>\n      <td>2128</td>\n      <td>3.03</td>\n      <td>3676.13</td>\n      <td>4.99</td>\n      <td>5.58</td>\n      <td>4.09</td>\n    </tr>\n    <tr>\n      <th>2</th>\n      <td>2</td>\n      <td>Deployment</td>\n      <td>3053</td>\n      <td>4.35</td>\n      <td>3754.96</td>\n      <td>4.46</td>\n      <td>4.71</td>\n      <td>2.52</td>\n    </tr>\n    <tr>\n      <th>3</th>\n      <td>3</td>\n      <td>Context Creation</td>\n      <td>2518</td>\n      <td>3.58</td>\n      <td>3542.09</td>\n      <td>3.74</td>\n      <td>3.72</td>\n      <td>2.79</td>\n    </tr>\n    <tr>\n      <th>4</th>\n      <td>4</td>\n      <td>User Experience</td>\n      <td>8124</td>\n      <td>11.57</td>\n      <td>3925.36</td>\n      <td>4.60</td>\n      <td>3.97</td>\n      <td>2.17</td>\n    </tr>\n    <tr>\n      <th>5</th>\n      <td>5</td>\n      <td>User Interfacing</td>\n      <td>14951</td>\n      <td>21.28</td>\n      <td>3216.28</td>\n      <td>4.01</td>\n      <td>3.73</td>\n      <td>2.66</td>\n    </tr>\n    <tr>\n      <th>6</th>\n      <td>6</td>\n      <td>Resource Management</td>\n      <td>15791</td>\n      <td>22.48</td>\n      <td>4407.25</td>\n      <td>4.46</td>\n      <td>4.30</td>\n      <td>4.58</td>\n    </tr>\n    <tr>\n      <th>7</th>\n      <td>7</td>\n      <td>Automation</td>\n      <td>5110</td>\n      <td>7.27</td>\n      <td>3287.88</td>\n      <td>4.27</td>\n      <td>3.52</td>\n      <td>3.64</td>\n    </tr>\n    <tr>\n      <th>8</th>\n      <td>8</td>\n      <td>Database</td>\n      <td>2863</td>\n      <td>4.08</td>\n      <td>5817.47</td>\n      <td>5.76</td>\n      <td>6.34</td>\n      <td>1.37</td>\n    </tr>\n    <tr>\n      <th>9</th>\n      <td>9</td>\n      <td>Workflow</td>\n      <td>9769</td>\n      <td>13.91</td>\n      <td>2730.59</td>\n      <td>4.05</td>\n      <td>3.91</td>\n      <td>3.77</td>\n    </tr>\n    <tr>\n      <th>10</th>\n      <td>10</td>\n      <td>Integration</td>\n      <td>2211</td>\n      <td>3.15</td>\n      <td>3166.00</td>\n      <td>3.32</td>\n      <td>3.24</td>\n      <td>2.47</td>\n    </tr>\n  </tbody>\n</table>\n</div>"
     },
     "execution_count": 13,
     "metadata": {},
     "output_type": "execute_result"
    }
   ],
   "source": [
    "TOTAL_POSTS = len(so_df) + so_df.AcceptedAnswer.count()\n",
    "number_of_posts = []\n",
    "percentage_of_posts = []\n",
    "avg_view = []\n",
    "avg_favorite = []\n",
    "avg_score = []\n",
    "pct_questions_without_accepted_answer = []\n",
    "median_hours_to_get_accepted_answer = []\n",
    "\n",
    "for topic_id in TOPIC_ID_LOW_CATEGORY:\n",
    "    idsToRetain = []\n",
    "    temp_df = pd.read_csv(f'./output/Topic Modeling Results/11 Topics/TopicToPost/{topic_id}/Questions.csv')\n",
    "    idsToRetain.extend(temp_df.link.tolist())\n",
    "    temp_ans_df = pd.read_csv(f'./output/Topic Modeling Results/11 Topics/TopicToPost/{topic_id}/Answers.csv')\n",
    "    temp_df = so_df[so_df['Id'].isin(idsToRetain)]\n",
    "    post_cnt = len(temp_df) + len(temp_ans_df)\n",
    "    number_of_posts.append(post_cnt)\n",
    "    percentage_of_posts.append(round(((post_cnt/TOTAL_POSTS)*100.0), 2))\n",
    "    avg_view.append(round(temp_df.ViewCount.mean(), 2))\n",
    "    avg_favorite.append(round(temp_df.FavoriteCount.mean(), 2))\n",
    "    avg_score.append(round(temp_df.Score.mean(), 2))\n",
    "    pct_questions_without_accepted_answer.append(\n",
    "        round((((len(temp_df)-temp_df.AcceptedAnswer.count())/len(temp_df))*100.0), 2))\n",
    "    # median hours\n",
    "    temp_median_df = temp_df[temp_df['AcceptedAnswer'].notnull(\n",
    "    )][['CreationDate', 'AcceptedAnswerCreationDate']]\n",
    "    temp_median_df['Diff_Hour'] = (\n",
    "                                          temp_median_df.AcceptedAnswerCreationDate - temp_median_df.CreationDate) / pd.Timedelta(hours=1)\n",
    "    median_hours_to_get_accepted_answer.append(\n",
    "        round(temp_median_df.Diff_Hour.median(), 2))\n",
    "    # print(len(temp_df), len(questions_with_accepted_answers))\n",
    "\n",
    "df = pd.DataFrame()\n",
    "df['Topic_ID'] = TOPIC_ID_LOW_CATEGORY.keys()\n",
    "df['Topic_Name'] = TOPIC_ID_LOW_CATEGORY.values()\n",
    "df['Number_of_Posts(Q+A)'] = number_of_posts\n",
    "df['Percentage_of_Posts'] = percentage_of_posts\n",
    "df['Averege_View'] = avg_view\n",
    "df['AVerege_Favorite'] = avg_favorite\n",
    "df['Averege_Score'] = avg_score\n",
    "df['Median_Hours_To_Get_Accepted_Answer'] = median_hours_to_get_accepted_answer\n",
    "df.to_csv('Stats_Topic_Modeling_Low_Level.csv', index=False)\n",
    "df"
   ],
   "metadata": {
    "collapsed": false,
    "pycharm": {
     "name": "#%%\n"
    }
   }
  },
  {
   "cell_type": "code",
   "execution_count": 34,
   "outputs": [
    {
     "data": {
      "text/plain": "<Figure size 720x360 with 1 Axes>",
      "image/png": "[encoded data removed]"
     },
     "metadata": {
      "needs_background": "light"
     },
     "output_type": "display_data"
    }
   ],
   "source": [
    "# topic relevance distributions\n",
    "\n",
    "data = {\n",
    "    0:0.25,\n",
    "    1:0.75,\n",
    "    2:0.25,\n",
    "    3:0.75,\n",
    "    4:0.5,\n",
    "    5:0.5,\n",
    "    6:0.25,\n",
    "    7:1,\n",
    "    8:1,\n",
    "    9:0.5,\n",
    "    10:1,\n",
    "}\n",
    "topics = list(data.keys())\n",
    "values = list(data.values())\n",
    "fig = plt.figure(figsize = (10, 5))\n",
    "\n",
    "# creating the bar plot\n",
    "plt.bar(topics, values, color ='maroon',\n",
    "        width = 0.4)\n",
    "\n",
    "plt.xlabel(\"Topics\")\n",
    "plt.ylabel(\"Relevance Score\")\n",
    "\n",
    "plt.savefig('output/RelevanceScores.pdf',dpi=1000, bbox_inches = \"tight\")\n",
    "\n",
    "plt.show()\n",
    "\n"
   ],
   "metadata": {
    "collapsed": false,
    "pycharm": {
     "name": "#%%\n"
    }
   }
  }
 ],
 "metadata": {
  "kernelspec": {
   "display_name": "Python 3",
   "language": "python",
   "name": "python3"
  },
  "language_info": {
   "codemirror_mode": {
    "name": "ipython",
    "version": 3
   },
   "file_extension": ".py",
   "mimetype": "text/x-python",
   "name": "python",
   "nbconvert_exporter": "python",
   "pygments_lexer": "ipython3",
   "version": "3.7.6"
  }
 },
 "nbformat": 4,
 "nbformat_minor": 2
}